{
 "cells": [
  {
   "cell_type": "markdown",
   "id": "f07ea482-6340-41ca-9a18-cb0777fe6b8f",
   "metadata": {},
   "source": [
    "metin üretimi\n",
    "\n",
    "gpt-2 kullanılarak metin üretimi \n",
    "llama"
   ]
  },
  {
   "cell_type": "code",
   "execution_count": 1,
   "id": "33cc8f4d-8441-4491-aa2a-4c98b6b109c0",
   "metadata": {},
   "outputs": [
    {
     "ename": "ImportError",
     "evalue": "cannot import name 'GPT2LMGeadModel' from 'transformers' (D:\\anaconda\\lib\\site-packages\\transformers\\__init__.py)",
     "output_type": "error",
     "traceback": [
      "\u001b[1;31m---------------------------------------------------------------------------\u001b[0m",
      "\u001b[1;31mImportError\u001b[0m                               Traceback (most recent call last)",
      "Cell \u001b[1;32mIn[1], line 2\u001b[0m\n\u001b[0;32m      1\u001b[0m \u001b[38;5;66;03m# import libraries\u001b[39;00m\n\u001b[1;32m----> 2\u001b[0m \u001b[38;5;28;01mfrom\u001b[39;00m \u001b[38;5;21;01mtransformers\u001b[39;00m \u001b[38;5;28;01mimport\u001b[39;00m GPT2LMGeadModel, GPT2Tokenizer\n",
      "\u001b[1;31mImportError\u001b[0m: cannot import name 'GPT2LMGeadModel' from 'transformers' (D:\\anaconda\\lib\\site-packages\\transformers\\__init__.py)"
     ]
    }
   ],
   "source": [
    "from transformers import GPT2LMHeadModel, GPT2Tokenizer\n"
   ]
  },
  {
   "cell_type": "code",
   "execution_count": null,
   "id": "c4557b6d-d7eb-4dab-bf64-e9bae584b938",
   "metadata": {},
   "outputs": [],
   "source": [
    "# modelin tanımlanması\n",
    "model_name = \"gpt2\"\n"
   ]
  },
  {
   "cell_type": "code",
   "execution_count": null,
   "id": "4dff5291-5640-4df9-87ea-354add46e106",
   "metadata": {},
   "outputs": [],
   "source": [
    "# tokenizer tanımlama ve model oluşturma\n",
    "tokenizer = GPT2Tokenizer.from_pretained(model_name)\n",
    "\n",
    "model = GPT2HeadModel.from_pretrained(model_name)"
   ]
  },
  {
   "cell_type": "code",
   "execution_count": null,
   "id": "8867eb2e-1e89-4fc5-86a3-fe7eafb15346",
   "metadata": {},
   "outputs": [],
   "source": [
    "#metin üretimi için gerekli olan başlangıç texti \n",
    "text = \"I go to school for\""
   ]
  },
  {
   "cell_type": "code",
   "execution_count": null,
   "id": "44d56310-c9b9-4f9b-a9c7-f2b7be129aba",
   "metadata": {},
   "outputs": [],
   "source": [
    "# tokenization\n",
    "inputs = tokenizer.encode(text, return_tensors=\"pt\")"
   ]
  },
  {
   "cell_type": "code",
   "execution_count": null,
   "id": "eaaaf817-e12f-4478-8eb5-ca71cb2c1832",
   "metadata": {},
   "outputs": [],
   "source": [
    "# metin uretimi gerceklestirelim\n",
    "model.generate(inputs, max_length= 15) #inputs =modelin başlangıç notası"
   ]
  },
  {
   "cell_type": "code",
   "execution_count": null,
   "id": "bc7ab919-c109-4f53-a586-63cfa82bfc4c",
   "metadata": {},
   "outputs": [],
   "source": []
  },
  {
   "cell_type": "code",
   "execution_count": null,
   "id": "b11ea440-8d31-4a51-85af-1d6d80913209",
   "metadata": {},
   "outputs": [],
   "source": []
  },
  {
   "cell_type": "code",
   "execution_count": null,
   "id": "e90d7bc0-d7a3-4f7b-b33b-5f6a547846e9",
   "metadata": {},
   "outputs": [],
   "source": []
  }
 ],
 "metadata": {
  "kernelspec": {
   "display_name": "Python 3 (ipykernel)",
   "language": "python",
   "name": "python3"
  },
  "language_info": {
   "codemirror_mode": {
    "name": "ipython",
    "version": 3
   },
   "file_extension": ".py",
   "mimetype": "text/x-python",
   "name": "python",
   "nbconvert_exporter": "python",
   "pygments_lexer": "ipython3",
   "version": "3.9.20"
  }
 },
 "nbformat": 4,
 "nbformat_minor": 5
}
