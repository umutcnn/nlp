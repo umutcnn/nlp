{
 "cells": [
  {
   "cell_type": "code",
   "execution_count": 1,
   "id": "3a3d95bf-f11e-4d2c-a894-2923c652ec0b",
   "metadata": {},
   "outputs": [],
   "source": [
    "#import libraies\n",
    "from transformers import BertTokenizer, BertForQuestionAnswering\n",
    "import torch"
   ]
  },
  {
   "cell_type": "code",
   "execution_count": 2,
   "id": "cc18ebff-66ae-4c07-b601-215568bcf480",
   "metadata": {},
   "outputs": [],
   "source": [
    "import warnings\n",
    "warnings.filterwarnings(\"ignore\") # gereksiz uyarıları kaldıralım "
   ]
  },
  {
   "cell_type": "code",
   "execution_count": 3,
   "id": "ee1fd5e6-9cf5-450c-9efc-6e38f8ba181c",
   "metadata": {},
   "outputs": [],
   "source": [
    "# squad veri seti uzerinde ince ayar yapilmis bert modeli\n",
    "model_name = \"bert-large-uncased-whole-word-masking-finetuned-squad\""
   ]
  },
  {
   "cell_type": "code",
   "execution_count": 4,
   "id": "e020d271-0fa8-46b0-aa1b-3cef0323bb2c",
   "metadata": {},
   "outputs": [],
   "source": [
    "# bert tokenizer\n",
    "tokenizer = BertTokenizer.from_pretrained(model_name)"
   ]
  },
  {
   "cell_type": "code",
   "execution_count": 5,
   "id": "5c6f5279-68f7-4894-82b5-be613168f033",
   "metadata": {},
   "outputs": [
    {
     "name": "stderr",
     "output_type": "stream",
     "text": [
      "Some weights of the model checkpoint at bert-large-uncased-whole-word-masking-finetuned-squad were not used when initializing BertForQuestionAnswering: ['bert.pooler.dense.bias', 'bert.pooler.dense.weight']\n",
      "- This IS expected if you are initializing BertForQuestionAnswering from the checkpoint of a model trained on another task or with another architecture (e.g. initializing a BertForSequenceClassification model from a BertForPreTraining model).\n",
      "- This IS NOT expected if you are initializing BertForQuestionAnswering from the checkpoint of a model that you expect to be exactly identical (initializing a BertForSequenceClassification model from a BertForSequenceClassification model).\n"
     ]
    }
   ],
   "source": [
    "# soru cevaplama gorevi icin ince ayar yapilmis bert modeli\n",
    "model = BertForQuestionAnswering.from_pretrained(model_name)"
   ]
  },
  {
   "cell_type": "code",
   "execution_count": 6,
   "id": "8d0ee4cf-5ff9-4353-bbb4-2f7c826d10ee",
   "metadata": {},
   "outputs": [],
   "source": [
    "# Soru-Cevap Tahmini Fonksiyonu\n",
    "\n",
    "def predict_answer(context, question):\n",
    "    \"\"\"\n",
    "    verilen bir metin (context) ve bir soru (question) kullanarak\n",
    "    metin içerisinden cevabı tahmin eder.\n",
    "\n",
    "    adım adım ne yaptığı şu şekilde özetlenebilir:\n",
    "\n",
    "    1. metin ve soruyu tokenize eder.\n",
    "    2. token'lar üzerinden modele uygun input verilerini oluşturur.\n",
    "    3. modeli çalıştırarak, cevabın başlayabileceği ve bitebileceği yerlerin skorlarını alır.\n",
    "    4. bu skorlar arasından en yüksek skora sahip başlangıç ve bitiş indekslerini seçer.\n",
    "    5. ilgili token ID'lerini metin haline getirerek cevabı çıkarır.\n",
    "    6. cevabı okunabilir bir string formatına dönüştürerek döner.\n",
    "    \"\"\"\n",
    "\n",
    "    # 1. encode_plus ile hem soru hem metin birlikte token'lara ayrılır.\n",
    "    # max_length: 512, çünkü transformer'lar genelde maksimum bu kadar token alabilir.\n",
    "    encoding = tokenizer.encode_plus(\n",
    "        question,\n",
    "        context,\n",
    "        return_tensors=\"pt\",\n",
    "        max_length=512,\n",
    "        truncation=True\n",
    "    )\n",
    "\n",
    "    # 2. giriş verileri hazırlanır\n",
    "    input_ids = encoding[\"input_ids\"]  # token ID'leri\n",
    "    attention_mask = encoding[\"attention_mask\"]  # dikkate alınacak token'lar maskelenir\n",
    "\n",
    "    # 3. model çalıştırılır, ama gradyan hesabı yapmadan (inference modu)\n",
    "    with torch.no_grad():\n",
    "        start_scores, end_scores = model(\n",
    "            input_ids,\n",
    "            attention_mask=attention_mask,\n",
    "            return_dict=False\n",
    "        )\n",
    "\n",
    "    # 4. skorlar içerisinden en yüksek olasılıkların indeksleri alınır\n",
    "    start_index = torch.argmax(start_scores, dim=1).item()  # cevabın başlayabileceği en yüksek skorlu index\n",
    "    end_index = torch.argmax(end_scores, dim=1).item()  # cevabın bitebileceği en yüksek skorlu index\n",
    "\n",
    "    # 5. token ID'lerini alarak cevabın geçtiği token'ları bul\n",
    "    answer_tokens = tokenizer.convert_ids_to_tokens(\n",
    "        input_ids[0][start_index:end_index + 1]\n",
    "    )\n",
    "\n",
    "    # 6. token'ları okunabilir string haline getiriyoruz\n",
    "    answer = tokenizer.convert_tokens_to_string(answer_tokens)\n",
    "\n",
    "    return answer"
   ]
  },
  {
   "cell_type": "code",
   "execution_count": 7,
   "id": "af45ef6b-3457-4b3d-b968-4d0373d33572",
   "metadata": {},
   "outputs": [
    {
     "name": "stdout",
     "output_type": "stream",
     "text": [
      "Answer: paris\n"
     ]
    }
   ],
   "source": [
    "question = \"What is the capital of France\"\n",
    "context = \"France, officially the French Republic, is a country whose capital is Paris\"\n",
    "\n",
    "answer = predict_answer(context, question)\n",
    "print(f\"Answer: {answer}\")"
   ]
  },
  {
   "cell_type": "code",
   "execution_count": 8,
   "id": "23c5ec27-ef3b-4b09-bfe4-1ee0c1e1aaf8",
   "metadata": {},
   "outputs": [
    {
     "name": "stdout",
     "output_type": "stream",
     "text": [
      "Answer: the scientific study of algorithms and statistical models\n"
     ]
    }
   ],
   "source": [
    "\n",
    "question = '''What is Machine Learning?'''\n",
    "context = ''' Machine learning (ML) is the scientific study of algorithms and statistical models that computer systems use to progressively improve their performance \n",
    "                on a specific task. Machine learning algorithms build a mathematical model of sample data, known as \"training data\", in order to make predictions or \n",
    "                decisions without being explicitly programmed to perform the task. Machine learning algorithms are used in the applications of email filtering, detection \n",
    "                of network intruders, and computer vision, where it is infeasible to develop an algorithm of specific instructions for performing the task. Machine learning \n",
    "                is closely related to computational statistics, which focuses on making predictions using computers. The study of mathematical optimization delivers methods, \n",
    "                theory and application domains to the field of machine learning. Data mining is a field of study within machine learning, and focuses on exploratory \n",
    "                data analysis through unsupervised learning.In its application across business problems, machine learning is also referred to as predictive analytics. '''\n",
    "\n",
    "\n",
    "answer = predict_answer(context, question)\n",
    "print(f\"Answer: {answer}\")\n"
   ]
  },
  {
   "cell_type": "code",
   "execution_count": null,
   "id": "781bb58b-696e-4f6a-988e-4af3e6adaafa",
   "metadata": {},
   "outputs": [],
   "source": []
  }
 ],
 "metadata": {
  "kernelspec": {
   "display_name": "Python 3 (ipykernel)",
   "language": "python",
   "name": "python3"
  },
  "language_info": {
   "codemirror_mode": {
    "name": "ipython",
    "version": 3
   },
   "file_extension": ".py",
   "mimetype": "text/x-python",
   "name": "python",
   "nbconvert_exporter": "python",
   "pygments_lexer": "ipython3",
   "version": "3.9.20"
  }
 },
 "nbformat": 4,
 "nbformat_minor": 5
}
