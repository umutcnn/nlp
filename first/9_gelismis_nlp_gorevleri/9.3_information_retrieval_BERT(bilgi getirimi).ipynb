{
 "cells": [
  {
   "cell_type": "markdown",
   "id": "04b65be0-d6d7-4395-a19a-0eb5122ab76c",
   "metadata": {},
   "source": [
    "Information Retrieval (Bilgi Getirimi) Nedir?\n",
    "Bilgi getirimi, kullanıcının sorduğu bir sorguya karşılık olarak büyük bir belge koleksiyonu içerisinden en alakalı belgeleri bulma sürecidir. Bu işlem özellikle:\n",
    "\n",
    "Arama motorlarında (Google, Bing),\n",
    "\n",
    "Soru-cevap sistemlerinde,\n",
    "\n",
    "Belgelerden bilgi çekmede,\n",
    "\n",
    "Chatbot'larda\n",
    "kullanılır.\n",
    "\n",
    "Temel Adımlar:\n",
    "Belgeler ve sorgu sayısallaştırılır.\n",
    "\n",
    "Her biri vektör haline getirilir.\n",
    "\n",
    "Kosinüs benzerliği gibi metriklerle karşılaştırılır.\n",
    "\n",
    "En yakın (benzer) belge(ler) seçilir.\n",
    "\n",
    "Bu Kodda:\n",
    "BERT kullanılarak belgeler ve sorgu için anlamsal (semantic) vektörler çıkarılıyor.\n",
    "\n",
    "Sonra bu vektörler arasında cosine similarity hesaplanarak sorguya en yakın belge bulunuyor."
   ]
  },
  {
   "cell_type": "code",
   "execution_count": 1,
   "id": "52791674-c7e6-4fbf-ac35-136f35ba7e6a",
   "metadata": {},
   "outputs": [],
   "source": [
    "# gerekli kütüphaneleri içe aktar\n",
    "from transformers import BertTokenizer, BertModel   # bERT tokenizer ve modeli\n",
    "import numpy as np                                  # sayısal işlemler için NumPy\n",
    "from sklearn.metrics.pairwise import cosine_similarity  # vektörler arası benzerlik için kosinüs benzerliği\n"
   ]
  },
  {
   "cell_type": "code",
   "execution_count": 2,
   "id": "130f553b-39f5-4554-8d1c-b83fcb29785a",
   "metadata": {},
   "outputs": [],
   "source": [
    "# kullanılacak modelin adı (küçük boyutlu ve İngilizce, küçük harfli BERT modeli)\n",
    "model_name = \"bert-base-uncased\"\n"
   ]
  },
  {
   "cell_type": "code",
   "execution_count": 3,
   "id": "9a4d77c3-a39a-4677-a42e-136b005704ce",
   "metadata": {},
   "outputs": [
    {
     "data": {
      "application/vnd.jupyter.widget-view+json": {
       "model_id": "992ab58b82d347fa9cdfdd37da38506c",
       "version_major": 2,
       "version_minor": 0
      },
      "text/plain": [
       "tokenizer_config.json:   0%|          | 0.00/48.0 [00:00<?, ?B/s]"
      ]
     },
     "metadata": {},
     "output_type": "display_data"
    },
    {
     "data": {
      "application/vnd.jupyter.widget-view+json": {
       "model_id": "324f33b47796434680715b9aabc462dd",
       "version_major": 2,
       "version_minor": 0
      },
      "text/plain": [
       "vocab.txt:   0%|          | 0.00/232k [00:00<?, ?B/s]"
      ]
     },
     "metadata": {},
     "output_type": "display_data"
    },
    {
     "data": {
      "application/vnd.jupyter.widget-view+json": {
       "model_id": "e9f195f7221a41e2a461eccc9121bee2",
       "version_major": 2,
       "version_minor": 0
      },
      "text/plain": [
       "tokenizer.json:   0%|          | 0.00/466k [00:00<?, ?B/s]"
      ]
     },
     "metadata": {},
     "output_type": "display_data"
    },
    {
     "data": {
      "application/vnd.jupyter.widget-view+json": {
       "model_id": "caef0bbd63394328ac895134c91020d6",
       "version_major": 2,
       "version_minor": 0
      },
      "text/plain": [
       "config.json:   0%|          | 0.00/570 [00:00<?, ?B/s]"
      ]
     },
     "metadata": {},
     "output_type": "display_data"
    },
    {
     "data": {
      "application/vnd.jupyter.widget-view+json": {
       "model_id": "ab5efa2ea1264867aac2d845d823ee36",
       "version_major": 2,
       "version_minor": 0
      },
      "text/plain": [
       "model.safetensors:   0%|          | 0.00/440M [00:00<?, ?B/s]"
      ]
     },
     "metadata": {},
     "output_type": "display_data"
    }
   ],
   "source": [
    "# tokenizeri ve modeli önceden eğitilmiş ağırlıklarla yükle\n",
    "tokenizer = BertTokenizer.from_pretrained(model_name)\n",
    "model = BertModel.from_pretrained(model_name)"
   ]
  },
  {
   "cell_type": "code",
   "execution_count": 4,
   "id": "0e1c1dbb-c05a-4a5f-abfd-f5a65ceffa8f",
   "metadata": {},
   "outputs": [],
   "source": [
    "# bilgi getirimi yapılacak metin belgeleri (documents)\n",
    "documents = [\n",
    "    \"Machine learning is a field of artificial intelligence\",\n",
    "    \"Natural language processing involves understanding human language\",\n",
    "    \"Artificial intelligence encomppases machine learning and natural language processing (nlp)\",\n",
    "    \"Deep learning is a subset of machine learning\",\n",
    "    \"Data science combines statistics, adta analysis and machine learning\",\n",
    "    \"I go to shop\"  # alakasız bir cümle; sorgu ile düşük benzerlik beklenir\n",
    "]\n"
   ]
  },
  {
   "cell_type": "code",
   "execution_count": 5,
   "id": "edd5729b-8d54-4d44-b18c-96772fb43644",
   "metadata": {},
   "outputs": [],
   "source": [
    "# kullanıcının sorduğu sorgu (query)\n",
    "query = \"What is deep learning?\""
   ]
  },
  {
   "cell_type": "code",
   "execution_count": 6,
   "id": "6bfb73cc-b49e-45d5-bc84-3aae92aa29cf",
   "metadata": {},
   "outputs": [],
   "source": [
    "# bert ile metni sayısal vektöre çeviren fonksiyon\n",
    "def get_embedding(text):\n",
    "    # metni tokenize et, truncation ve padding uygula (model girişine uygun hale getir)\n",
    "    inputs = tokenizer(text, return_tensors=\"pt\", truncation=True, padding=True)\n",
    "    \n",
    "    # modeli çalıştırarak çıktıları al\n",
    "    outputs = model(**inputs)\n",
    "    \n",
    "    # modelin son gizli katmanını al (her token için vektör üretir)\n",
    "    last_hidden_state = outputs.last_hidden_state\n",
    "    \n",
    "    # tüm token vektörlerinin ortalamasını alarak metnin genel temsili elde edilir\n",
    "    embedding = last_hidden_state.mean(dim=1)  # [batch_size, hidden_dim]\n",
    "    \n",
    "    return embedding.detach().numpy()"
   ]
  },
  {
   "cell_type": "code",
   "execution_count": 7,
   "id": "32a9ae40-48e4-428b-8d6c-ac608984505a",
   "metadata": {},
   "outputs": [],
   "source": [
    "# belgeler için embedding vektörlerini hesapla (hepsini üst üste diz)\n",
    "doc_embeddings = np.vstack([get_embedding(doc) for doc in documents])"
   ]
  },
  {
   "cell_type": "code",
   "execution_count": 8,
   "id": "0c06f14a-e539-4403-b2cc-7346c2bc2b9d",
   "metadata": {},
   "outputs": [],
   "source": [
    "# sorgu query cümlesi için embedding hesapla\n",
    "query_embedding = get_embedding(query)"
   ]
  },
  {
   "cell_type": "code",
   "execution_count": 9,
   "id": "b2946602-8101-4e84-b292-923213234d37",
   "metadata": {},
   "outputs": [],
   "source": [
    "# kosinüs benzerliği ile sorgu ve her belge arasındaki benzerlikleri hesapla\n",
    "similarities = cosine_similarity(query_embedding, doc_embeddings)\n"
   ]
  },
  {
   "cell_type": "code",
   "execution_count": 10,
   "id": "3ed96efb-0cdd-433b-a9c2-6793183a8905",
   "metadata": {},
   "outputs": [
    {
     "name": "stdout",
     "output_type": "stream",
     "text": [
      "Document: Machine learning is a field of artificial intelligence \n",
      "0.6348220109939575\n",
      "\n",
      "Document: Natural language processing involves understanding human language \n",
      "0.6269391775131226\n",
      "\n",
      "Document: Artificial intelligence encomppases machine learning and natural language processing (nlp) \n",
      "0.5046247243881226\n",
      "\n",
      "Document: Deep learning is a subset of machine learning \n",
      "0.6263622641563416\n",
      "\n",
      "Document: Data science combines statistics, adta analysis and machine learning \n",
      "0.613688588142395\n",
      "\n",
      "Document: I go to shop \n",
      "0.5354948043823242\n",
      "\n"
     ]
    }
   ],
   "source": [
    "# her belge için benzerlik skorlarını yazdır\n",
    "for i, score in enumerate(similarities[0]):\n",
    "    print(f\"Document: {documents[i]} \\n{score}\\n\")"
   ]
  },
  {
   "cell_type": "code",
   "execution_count": 11,
   "id": "b4723ca9-ac89-47b2-b61e-bd02c46633bd",
   "metadata": {},
   "outputs": [
    {
     "name": "stdout",
     "output_type": "stream",
     "text": [
      "Most similar document: Machine learning is a field of artificial intelligence\n"
     ]
    }
   ],
   "source": [
    "# en yüksek benzerlik skoruna sahip belgeyi bul\n",
    "most_similar_index = similarities.argmax()\n",
    "\n",
    "# en ilgili belgeyi ekrana yazdır\n",
    "print(f\"Most similar document: {documents[most_similar_index]}\")"
   ]
  },
  {
   "cell_type": "code",
   "execution_count": null,
   "id": "dd7ee065-9c79-42ee-9c9e-180c24c5a4cd",
   "metadata": {},
   "outputs": [],
   "source": []
  }
 ],
 "metadata": {
  "kernelspec": {
   "display_name": "Python 3 (ipykernel)",
   "language": "python",
   "name": "python3"
  },
  "language_info": {
   "codemirror_mode": {
    "name": "ipython",
    "version": 3
   },
   "file_extension": ".py",
   "mimetype": "text/x-python",
   "name": "python",
   "nbconvert_exporter": "python",
   "pygments_lexer": "ipython3",
   "version": "3.9.20"
  }
 },
 "nbformat": 4,
 "nbformat_minor": 5
}
