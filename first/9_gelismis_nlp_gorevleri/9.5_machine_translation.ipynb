{
 "cells": [
  {
   "cell_type": "code",
   "execution_count": 1,
   "id": "f1bf3949-e2b6-4ffe-a147-aa0255e64529",
   "metadata": {},
   "outputs": [],
   "source": [
    "# transformers kütüphanesinden MarianMTModel ve MarianTokenizer sınıflarını import ediyoruz\n",
    "# MarianMT, makine çevirisi için önceden eğitilmiş bir modeldir.\n",
    "from transformers import MarianMTModel, MarianTokenizer"
   ]
  },
  {
   "cell_type": "code",
   "execution_count": 2,
   "id": "2183f89a-ef8a-4aa0-af65-7b2d931feac4",
   "metadata": {},
   "outputs": [],
   "source": [
    "# kullanacağımız modelin ismi. Helsinki-NLP tarafından eğitilmiş \"English to French\" (İngilizceden Fransızcaya) çeviri modeli.\n",
    "model_name = \"Helsinki-NLP/opus-mt-en-fr\"  "
   ]
  },
  {
   "cell_type": "code",
   "execution_count": 3,
   "id": "958b7c60-013b-420a-afa8-f999c8ecd604",
   "metadata": {},
   "outputs": [
    {
     "data": {
      "application/vnd.jupyter.widget-view+json": {
       "model_id": "9856c1f676e24c0a8c94b8511db00832",
       "version_major": 2,
       "version_minor": 0
      },
      "text/plain": [
       "tokenizer_config.json:   0%|          | 0.00/42.0 [00:00<?, ?B/s]"
      ]
     },
     "metadata": {},
     "output_type": "display_data"
    },
    {
     "data": {
      "application/vnd.jupyter.widget-view+json": {
       "model_id": "7e43123c4c8f4737a4ae414e1a797efc",
       "version_major": 2,
       "version_minor": 0
      },
      "text/plain": [
       "source.spm:   0%|          | 0.00/778k [00:00<?, ?B/s]"
      ]
     },
     "metadata": {},
     "output_type": "display_data"
    },
    {
     "data": {
      "application/vnd.jupyter.widget-view+json": {
       "model_id": "4f7599c1a132474f8226404a0fbc56a8",
       "version_major": 2,
       "version_minor": 0
      },
      "text/plain": [
       "target.spm:   0%|          | 0.00/802k [00:00<?, ?B/s]"
      ]
     },
     "metadata": {},
     "output_type": "display_data"
    },
    {
     "data": {
      "application/vnd.jupyter.widget-view+json": {
       "model_id": "cd5d35d7dc3d43f49d4889451ae52298",
       "version_major": 2,
       "version_minor": 0
      },
      "text/plain": [
       "vocab.json:   0%|          | 0.00/1.34M [00:00<?, ?B/s]"
      ]
     },
     "metadata": {},
     "output_type": "display_data"
    },
    {
     "data": {
      "application/vnd.jupyter.widget-view+json": {
       "model_id": "1894a5a49b2741e7bee5b296d18f41e5",
       "version_major": 2,
       "version_minor": 0
      },
      "text/plain": [
       "config.json:   0%|          | 0.00/1.42k [00:00<?, ?B/s]"
      ]
     },
     "metadata": {},
     "output_type": "display_data"
    },
    {
     "name": "stderr",
     "output_type": "stream",
     "text": [
      "D:\\anaconda\\lib\\site-packages\\transformers\\models\\marian\\tokenization_marian.py:175: UserWarning: Recommended: pip install sacremoses.\n",
      "  warnings.warn(\"Recommended: pip install sacremoses.\")\n"
     ]
    }
   ],
   "source": [
    "# tokenizer, metni modelin anlayacağı tokenlere (kelime parçacıklarına) çevirir\n",
    "tokenizer = MarianTokenizer.from_pretrained(model_name)"
   ]
  },
  {
   "cell_type": "code",
   "execution_count": 4,
   "id": "8a94ce3f-4b9a-4d46-9a3b-8e30d0745aed",
   "metadata": {},
   "outputs": [
    {
     "data": {
      "application/vnd.jupyter.widget-view+json": {
       "model_id": "6850a079a1dd4fdabc8266e36b151649",
       "version_major": 2,
       "version_minor": 0
      },
      "text/plain": [
       "pytorch_model.bin:   0%|          | 0.00/301M [00:00<?, ?B/s]"
      ]
     },
     "metadata": {},
     "output_type": "display_data"
    },
    {
     "data": {
      "application/vnd.jupyter.widget-view+json": {
       "model_id": "e242b89cded64a189a2f36594ff3a558",
       "version_major": 2,
       "version_minor": 0
      },
      "text/plain": [
       "generation_config.json:   0%|          | 0.00/293 [00:00<?, ?B/s]"
      ]
     },
     "metadata": {},
     "output_type": "display_data"
    }
   ],
   "source": [
    "# önceden eğitilmiş MarianMT modelini yüklüyoruz\n",
    "model = MarianMTModel.from_pretrained(model_name)"
   ]
  },
  {
   "cell_type": "code",
   "execution_count": 5,
   "id": "e10e7678-f618-49ba-892d-61c11d695e10",
   "metadata": {},
   "outputs": [],
   "source": [
    "# çevirmek istediğimiz İngilizce cümle\n",
    "text = \"Hello, what is your name\""
   ]
  },
  {
   "cell_type": "code",
   "execution_count": 6,
   "id": "fb5147a1-ba22-4857-bb78-95628518264d",
   "metadata": {},
   "outputs": [],
   "source": [
    "# tokenizer kullanarak metni modelin girişine uygun hale getiriyoruz\n",
    "# return_tensors=\"pt\": PyTorch tensor olarak döner\n",
    "# padding=True: Gerekirse cümleyi pad eder\n",
    "inputs = tokenizer(text, return_tensors=\"pt\", padding=True)"
   ]
  },
  {
   "cell_type": "code",
   "execution_count": 7,
   "id": "df7e7302-e131-46f9-8d0c-449671f28558",
   "metadata": {},
   "outputs": [],
   "source": [
    "# modelin generate fonksiyonuyla çeviri yapıyoruz\n",
    "# generate metodu modele input verip çıktı tokenlerini üretir\n",
    "translated_tokens = model.generate(**inputs)"
   ]
  },
  {
   "cell_type": "code",
   "execution_count": 8,
   "id": "f7987e1e-6a0f-45a6-9f30-037d803760f4",
   "metadata": {},
   "outputs": [],
   "source": [
    "# tokenları tekrar okunabilir metne çeviriyoruz\n",
    "# skip_special_tokens=True ile özel tokenler (örneğin <pad>, <eos>) çıktıdan çıkarılır\n",
    "translated_text = tokenizer.decode(translated_tokens[0], skip_special_tokens=True)\n"
   ]
  },
  {
   "cell_type": "code",
   "execution_count": 9,
   "id": "181b6a4f-e65b-4be0-8298-02d7ad582a32",
   "metadata": {},
   "outputs": [
    {
     "name": "stdout",
     "output_type": "stream",
     "text": [
      "Translated_text: Bonjour, quel est votre nom\n"
     ]
    }
   ],
   "source": [
    "# çeviriyi yazdırıyoruz\n",
    "print(f\"Translated_text: {translated_text}\")"
   ]
  },
  {
   "cell_type": "code",
   "execution_count": null,
   "id": "2321a157-2867-4273-b773-6f372452aac0",
   "metadata": {},
   "outputs": [],
   "source": []
  }
 ],
 "metadata": {
  "kernelspec": {
   "display_name": "Python 3 (ipykernel)",
   "language": "python",
   "name": "python3"
  },
  "language_info": {
   "codemirror_mode": {
    "name": "ipython",
    "version": 3
   },
   "file_extension": ".py",
   "mimetype": "text/x-python",
   "name": "python",
   "nbconvert_exporter": "python",
   "pygments_lexer": "ipython3",
   "version": "3.9.20"
  }
 },
 "nbformat": 4,
 "nbformat_minor": 5
}
