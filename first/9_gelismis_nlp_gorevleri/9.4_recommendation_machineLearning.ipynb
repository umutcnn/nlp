{
 "cells": [
  {
   "cell_type": "code",
   "execution_count": 1,
   "id": "922a7a9f-b06e-4766-a523-ed5cc9b85b04",
   "metadata": {},
   "outputs": [],
   "source": [
    "# gerekli kütüphaneler yükleniyor\n",
    "from surprise import Dataset, KNNBasic, accuracy  # surprise: öneri sistemleri için kullanılır\n",
    "from surprise.model_selection import train_test_split  # eğitim ve test verisi için bölme fonksiyonu\n"
   ]
  },
  {
   "cell_type": "code",
   "execution_count": 2,
   "id": "b931f06d-8668-4d6c-84d6-30486b2b52f5",
   "metadata": {},
   "outputs": [],
   "source": [
    "# MovieLens 100K veri seti yükleniyor\n",
    "# veri seti: (kullanıcı id, film id, kullanıcı puanı)\n",
    "data = Dataset.load_builtin(\"ml-100k\")  # 100.000 kullanıcı-ürün-puan verisi içerir\n",
    "\n"
   ]
  },
  {
   "cell_type": "code",
   "execution_count": 3,
   "id": "91e17674-7d44-4a30-870d-f0c331922ae6",
   "metadata": {},
   "outputs": [],
   "source": [
    "# veri seti eğitim ve test olmak üzere ikiye bölünüyor (%20 test)\n",
    "trainset, testset = train_test_split(data, test_size=0.2)"
   ]
  },
  {
   "cell_type": "code",
   "execution_count": 4,
   "id": "547c1fd9-19f7-498b-a3c0-53385cebcbb2",
   "metadata": {},
   "outputs": [],
   "source": [
    "# kullanılacak benzerlik metriklerini tanımlıyoruz\n",
    "model_options = {\n",
    "    \"name\": \"cosine\",         # kullanıcılar/filmler arası benzerlik için kosinüs benzerliği\n",
    "    \"user_based\": True        # True => kullanıcılar arası benzerlik yapılacak (False => ürünler arası)\n",
    "}\n"
   ]
  },
  {
   "cell_type": "code",
   "execution_count": 5,
   "id": "98dfb882-49dc-420c-89a1-7f87a30c3ad2",
   "metadata": {},
   "outputs": [
    {
     "name": "stdout",
     "output_type": "stream",
     "text": [
      "Computing the cosine similarity matrix...\n",
      "Done computing similarity matrix.\n"
     ]
    },
    {
     "data": {
      "text/plain": [
       "<surprise.prediction_algorithms.knns.KNNBasic at 0x20cadd33a30>"
      ]
     },
     "execution_count": 5,
     "metadata": {},
     "output_type": "execute_result"
    }
   ],
   "source": [
    "# KNN tabanlı bir model oluşturuluyor\n",
    "model = KNNBasic(sim_options=model_options)  # KNNBasic: Basit K-En Yakın Komşu algoritması\n",
    "\n",
    "# model eğitim verisi ile eğitiliyor\n",
    "model.fit(trainset)\n"
   ]
  },
  {
   "cell_type": "code",
   "execution_count": 6,
   "id": "a76b4671-4b15-4250-bc96-43531ff85cc6",
   "metadata": {},
   "outputs": [],
   "source": [
    "# test verisi ile tahmin yap\n",
    "predictions = model.test(testset)"
   ]
  },
  {
   "cell_type": "code",
   "execution_count": 7,
   "id": "51bda782-3119-4c7e-a3e2-2c7bea89a041",
   "metadata": {},
   "outputs": [
    {
     "name": "stdout",
     "output_type": "stream",
     "text": [
      "RMSE: 1.0247\n",
      "Test RMSE: 1.0247\n"
     ]
    }
   ],
   "source": [
    "# Tahminlerin doğruluğunu RMSE (Root Mean Squared Error) metriğiyle hesaplayalım\n",
    "rmse = accuracy.rmse(predictions)\n",
    "print(f\"Test RMSE: {rmse:.4f}\")"
   ]
  },
  {
   "cell_type": "code",
   "execution_count": 8,
   "id": "757b4b74-23da-413f-a3e2-5144c768f275",
   "metadata": {},
   "outputs": [],
   "source": [
    "def get_top_n(predictions, n=10):\n",
    "    # tahmin edilen puanlardan her kullanıcıya ait en yüksek n tanesini döndürür\n",
    "    top_n = {}  # kullanıcıya göre organize edilen öneri listesi\n",
    "\n",
    "    for uid, iid, true_r, est, _ in predictions:\n",
    "        # eger kullanıcı daha önce eklenmemişse, kullanıcı için boş liste oluştur\n",
    "        if not top_n.get(uid):\n",
    "            top_n[uid] = []\n",
    "        \n",
    "        # kullanıcıya ait tahmin edilen ürün ve skorları ekle\n",
    "        top_n[uid].append((iid, est))\n",
    "\n",
    "    # her kullanıcı için puan sırasına göre büyükten küçüğe sırala ve en iyi n tanesini al\n",
    "    for uid, user_ratings in top_n.items():\n",
    "        user_ratings.sort(key=lambda x: x[1], reverse=True)  # tahmin edilen puana göre sırala\n",
    "        top_n[uid] = user_ratings[:n]\n",
    "\n",
    "    return top_n  # kullanıcıya göre n öneri listesi döndürülür\n"
   ]
  },
  {
   "cell_type": "code",
   "execution_count": 9,
   "id": "1488016b-da73-4b6f-85c4-0ebf9326aab3",
   "metadata": {},
   "outputs": [
    {
     "name": "stdout",
     "output_type": "stream",
     "text": [
      "top 5 recommendation for user 2\n",
      "item id: 127, score: 4.350154044349388\n",
      "item id: 242, score: 4.049253252856681\n",
      "item id: 293, score: 3.9750639986584586\n",
      "item id: 287, score: 3.800509680448711\n",
      "item id: 276, score: 3.724925249542078\n"
     ]
    }
   ],
   "source": [
    "# kaç öneri yapılacağı belirleniyor\n",
    "n = 5\n",
    "\n",
    "# tüm kullanıcılar için en iyi 5 öneri alınır\n",
    "top_n = get_top_n(predictions, n)\n",
    "\n",
    "# belirli bir kullanıcıya önerilen ürünler yazdırılıyor\n",
    "user_id = \"2\"  # string türünde olmalı, çünkü MovieLens veri setindeki kullanıcı id’leri string\n",
    "print(f\"top {n} recommendation for user {user_id}\")\n",
    "\n",
    "# kullanıcıya önerilen her ürünü ve puanını yazdır\n",
    "for item_id, rating in top_n[user_id]:\n",
    "    print(f\"item id: {item_id}, score: {rating}\")\n"
   ]
  },
  {
   "cell_type": "code",
   "execution_count": null,
   "id": "a90ede13-723d-4422-b169-b978e8ff7aa8",
   "metadata": {},
   "outputs": [],
   "source": []
  }
 ],
 "metadata": {
  "kernelspec": {
   "display_name": "Python 3 (ipykernel)",
   "language": "python",
   "name": "python3"
  },
  "language_info": {
   "codemirror_mode": {
    "name": "ipython",
    "version": 3
   },
   "file_extension": ".py",
   "mimetype": "text/x-python",
   "name": "python",
   "nbconvert_exporter": "python",
   "pygments_lexer": "ipython3",
   "version": "3.9.20"
  }
 },
 "nbformat": 4,
 "nbformat_minor": 5
}
