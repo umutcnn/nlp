{
 "cells": [
  {
   "cell_type": "markdown",
   "id": "fe9921bb-3c26-4944-97bc-1b2f9506dd73",
   "metadata": {},
   "source": [
    "bir metni transformers kütüphanesi ile özetlemeyi (summarization) hedefliyor. Hazır bir model ile verilen metnin kısa ve anlamlı bir özeti oluşturmaktadır"
   ]
  },
  {
   "cell_type": "code",
   "execution_count": 6,
   "id": "812513a8-5acb-4bb9-a7e1-b376762cc51b",
   "metadata": {},
   "outputs": [],
   "source": [
    "# Hugging Face transformers kütüphanesinden pipeline fonksiyonu içe aktarılır. \n",
    "# bu fonksiyon, çeşitli NLP görevleri için (özetleme, çeviri, duygu analizi, vs.) hazır modelleri kullanmayı sağlar\n",
    "from transformers import pipeline \n"
   ]
  },
  {
   "cell_type": "code",
   "execution_count": 7,
   "id": "623962a8-7ca7-4c5b-b0e7-91fa3ae8dd79",
   "metadata": {},
   "outputs": [
    {
     "name": "stderr",
     "output_type": "stream",
     "text": [
      "No model was supplied, defaulted to sshleifer/distilbart-cnn-12-6 and revision a4f8f3e (https://huggingface.co/sshleifer/distilbart-cnn-12-6).\n",
      "Using a pipeline without specifying a model name and revision in production is not recommended.\n"
     ]
    },
    {
     "name": "stdout",
     "output_type": "stream",
     "text": [
      "WARNING:tensorflow:From D:\\anaconda\\lib\\site-packages\\tf_keras\\src\\losses.py:2976: The name tf.losses.sparse_softmax_cross_entropy is deprecated. Please use tf.compat.v1.losses.sparse_softmax_cross_entropy instead.\n",
      "\n"
     ]
    },
    {
     "data": {
      "application/vnd.jupyter.widget-view+json": {
       "model_id": "d09b1f489e1947629385b1a9be8423f3",
       "version_major": 2,
       "version_minor": 0
      },
      "text/plain": [
       "pytorch_model.bin:   0%|          | 0.00/1.22G [00:00<?, ?B/s]"
      ]
     },
     "metadata": {},
     "output_type": "display_data"
    },
    {
     "data": {
      "application/vnd.jupyter.widget-view+json": {
       "model_id": "66a6c56f470645c19c3036998126d2ee",
       "version_major": 2,
       "version_minor": 0
      },
      "text/plain": [
       "tokenizer_config.json:   0%|          | 0.00/26.0 [00:00<?, ?B/s]"
      ]
     },
     "metadata": {},
     "output_type": "display_data"
    },
    {
     "data": {
      "application/vnd.jupyter.widget-view+json": {
       "model_id": "afa6c9e63e3346aaa822ea7cba0bed35",
       "version_major": 2,
       "version_minor": 0
      },
      "text/plain": [
       "vocab.json:   0%|          | 0.00/899k [00:00<?, ?B/s]"
      ]
     },
     "metadata": {},
     "output_type": "display_data"
    },
    {
     "data": {
      "application/vnd.jupyter.widget-view+json": {
       "model_id": "2042b0ddff124316a1bb5bb46364354c",
       "version_major": 2,
       "version_minor": 0
      },
      "text/plain": [
       "merges.txt:   0%|          | 0.00/456k [00:00<?, ?B/s]"
      ]
     },
     "metadata": {},
     "output_type": "display_data"
    }
   ],
   "source": [
    "summarizer = pipeline(\"summarization\")\n"
   ]
  },
  {
   "cell_type": "code",
   "execution_count": 8,
   "id": "d21f140c-1e82-4838-939b-e0a4bc20c6bc",
   "metadata": {},
   "outputs": [],
   "source": [
    "text = \"\"\"\n",
    "Machine learning (ML) is the scientific study of algorithms and statistical models that computer systems use \n",
    "to progressively improve their performance on a specific task. Machine learning algorithms build a mathematical \n",
    "model of sample data, known as \"training data\", in order to make predictions or decisions without being explicitly \n",
    "programmed to perform the task. Machine learning algorithms are used in the applications of email filtering, \n",
    "detection of network intruders, and computer vision, where it is infeasible to develop an algorithm of specific \n",
    "instructions for performing the task. Machine learning is closely related to computational statistics, which focuses \n",
    "on making predictions using computers. The study of mathematical optimization delivers methods, theory and application \n",
    "domains to the field of machine learning. Data mining is a field of study within machine learning, and focuses on exploratory \n",
    "data analysis through unsupervised learning. In its application across business problems, machine learning is also referred \n",
    "to as predictive analytics.\n",
    "\"\"\""
   ]
  },
  {
   "cell_type": "code",
   "execution_count": 9,
   "id": "a8effb2c-603a-4d79-84c3-5d43363f5a32",
   "metadata": {},
   "outputs": [
    {
     "name": "stdout",
     "output_type": "stream",
     "text": [
      " Machine learning (ML) is the scientific study of algorithms and statistical models that computer systems\n"
     ]
    }
   ],
   "source": [
    "# metni ozetleme\n",
    "summary = summarizer(\n",
    "    text, \n",
    "    max_length = 20,\n",
    "    min_length = 5,\n",
    "    do_sample = True\n",
    "    )\n",
    "\n",
    "print(summary[0][\"summary_text\"])"
   ]
  },
  {
   "cell_type": "markdown",
   "id": "76fe3d59-402d-4aa9-8f25-a432f217a3fb",
   "metadata": {},
   "source": [
    "\"\"\"\n",
    "Machine learning (ML) is the scientific study of algorithms and statistical models that computer systems use to progressively improve their performance on a specific task . Machine learning algorithms build a mathematical model of sample data, known as \"training data\", in order to make predictions or decisions . Data mining is a field of study within machine learning, and focuses on exploratory data analysis through unsupervised learning .\n",
    "\"\"\"\n",
    "\n",
    "\"\"\"\n",
    "Machine learning (ML) is the scientific study of algorithms and statistical models that computer systems\n",
    "\"\"\"\n",
    "\n"
   ]
  },
  {
   "cell_type": "code",
   "execution_count": null,
   "id": "554dcbe4-b46d-4dde-a238-fbd9eb110b59",
   "metadata": {},
   "outputs": [],
   "source": []
  }
 ],
 "metadata": {
  "kernelspec": {
   "display_name": "Python 3 (ipykernel)",
   "language": "python",
   "name": "python3"
  },
  "language_info": {
   "codemirror_mode": {
    "name": "ipython",
    "version": 3
   },
   "file_extension": ".py",
   "mimetype": "text/x-python",
   "name": "python",
   "nbconvert_exporter": "python",
   "pygments_lexer": "ipython3",
   "version": "3.9.20"
  }
 },
 "nbformat": 4,
 "nbformat_minor": 5
}
