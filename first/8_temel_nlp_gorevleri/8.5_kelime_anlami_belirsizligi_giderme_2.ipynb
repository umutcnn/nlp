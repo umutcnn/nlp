{
 "cells": [
  {
   "cell_type": "code",
   "execution_count": 1,
   "id": "02fc4f13-16eb-4dc7-b406-90436aa8181c",
   "metadata": {},
   "outputs": [
    {
     "name": "stderr",
     "output_type": "stream",
     "text": [
      "Warming up PyWSD (takes ~10 secs)... took 3.843762159347534 secs.\n"
     ]
    }
   ],
   "source": [
    "from pywsd.lesk import simple_lesk, adapted_lesk, cosine_lesk\n"
   ]
  },
  {
   "cell_type": "code",
   "execution_count": 2,
   "id": "17e6d171-23dd-429d-95dc-7ab4c8af833f",
   "metadata": {},
   "outputs": [
    {
     "name": "stdout",
     "output_type": "stream",
     "text": [
      "Sentence : I go to the bank to deposit money\n",
      "Sense Simple: a financial institution that accepts deposits and channels the money into lending activities\n",
      "Sense Adapted : a financial institution that accepts deposits and channels the money into lending activities\n",
      "Sense Cosine: a container (usually with a slot in the top) for keeping money at home\n",
      "Sentence : The river bank is flooded after the heavy rain\n",
      "Sense Simple: sloping land (especially the slope beside a body of water)\n",
      "Sense Adapted : sloping land (especially the slope beside a body of water)\n",
      "Sense Cosine: a supply or stock held in reserve for future use (especially in emergencies)\n"
     ]
    }
   ],
   "source": [
    "#ornek cumle\n",
    "sentences = [\n",
    "    \"I go to the bank to deposit money\",\n",
    "    \"The river bank is flooded after the heavy rain\"\n",
    "]\n",
    "word = \"bank\"\n",
    "\n",
    "for s in sentences:\n",
    "    print(f\"Sentence : {s}\")\n",
    "    sense_simple_lesk = simple_lesk(s,word)\n",
    "    print(f\"Sense Simple: {sense_simple_lesk.definition()}\")\n",
    "\n",
    "    sense_adapted_lesk = adapted_lesk(s,word)\n",
    "    print(f\"Sense Adapted : {sense_adapted_lesk.definition()}\")\n",
    "\n",
    "    sense_cosine_lesk = cosine_lesk(s,word)\n",
    "    print(f\"Sense Cosine: {sense_cosine_lesk.definition()}\")\n",
    "    "
   ]
  },
  {
   "cell_type": "code",
   "execution_count": null,
   "id": "e90941d7-a774-4062-b579-f82101711618",
   "metadata": {},
   "outputs": [],
   "source": []
  }
 ],
 "metadata": {
  "kernelspec": {
   "display_name": "Python 3 (ipykernel)",
   "language": "python",
   "name": "python3"
  },
  "language_info": {
   "codemirror_mode": {
    "name": "ipython",
    "version": 3
   },
   "file_extension": ".py",
   "mimetype": "text/x-python",
   "name": "python",
   "nbconvert_exporter": "python",
   "pygments_lexer": "ipython3",
   "version": "3.9.20"
  }
 },
 "nbformat": 4,
 "nbformat_minor": 5
}
