{
 "cells": [
  {
   "cell_type": "raw",
   "id": "7388180b-035f-47e1-a68e-e95baf339a86",
   "metadata": {},
   "source": [
    "Doğal dil işleme (NLP) alanında, bir kelimenin yapısal çözümlemesini yapmak için morfolojik analiz sıklıkla kullanılmaktadır. Bu analiz sürecinde kelimenin kök hâli (lemma), dilbilgisel kategorisi (pos), detaylı sözcük etiketi (tag), cümle içerisindeki görevi (dependency) gibi birçok yapısal ve anlamsal bilgi elde edilir."
   ]
  },
  {
   "cell_type": "code",
   "execution_count": 1,
   "id": "18730a47-f0b9-4631-9868-c91906418e61",
   "metadata": {},
   "outputs": [],
   "source": [
    "import spacy\n",
    "nlp = spacy.load(\"en_core_web_sm\")"
   ]
  },
  {
   "cell_type": "code",
   "execution_count": 15,
   "id": "690ecf06-5457-4fbc-903e-4f0028a2ec46",
   "metadata": {},
   "outputs": [
    {
     "name": "stdout",
     "output_type": "stream",
     "text": [
      "text: Went\n",
      "lemma: go\n",
      "pos: VERB\n",
      "tag: VBD\n",
      "dep: ROOT\n",
      "morph: <spacy.tokens.morphanalysis.MorphAnalysis object at 0x000001FB5CF74810>\n",
      "lang: en\n",
      "shape: Xxxx\n",
      "is_alpha: True\n",
      "is_digit: False\n",
      "is_punct: False\n",
      "is_space: False\n",
      "is_stop: False\n",
      "is_title: True\n",
      "is_upper: False\n",
      "is_lower: False\n",
      "like_num: False\n",
      "like_email: False\n",
      "like_url: False\n",
      "ent_type: \n",
      "ent_iob: O\n",
      "idx: 0\n",
      "has_vector: True\n",
      "is_oov: True\n",
      "rank: 18446744073709551615\n",
      "prob: -20.0\n",
      "--------------------------------------------------\n"
     ]
    }
   ],
   "source": [
    "# morfolojik analiz için kullanılacak örnek kelime\n",
    "word = \"Went\"\n",
    "\n",
    "# modeli çalıştırarak NLP işlemi uygula\n",
    "doc = nlp(word)\n",
    "\n",
    "# her bir token (kelime veya noktalama) için tüm kullanılabilir özellikleri yazdır\n",
    "for token in doc:\n",
    "    print(f\"text: {token.text}\")             # orijinal haliyle kelimenin kendisi\n",
    "    print(f\"lemma: {token.lemma_}\")          # sözlük/kök hali (örn: 'went' -> 'go')\n",
    "    print(f\"pos: {token.pos_}\")              # genel dilbilgisel kategori (örn: VERB, NOUN)\n",
    "    print(f\"tag: {token.tag_}\")              # ayrıntılı dilbilgisel etiket (örn: VBD - past tense verb)\n",
    "    print(f\"dep: {token.dep_}\")              # cümle içerisindeki sözdizimsel görevi (örn: ROOT, nsubj)\n",
    "    print(f\"morph: {token.morph}\")           # detaylı morfolojik özellikler (zaman, kişi, kip vs.)\n",
    "    print(f\"lang: {token.lang_}\")            # tokenin tahmini dili (örn: en, tr)\n",
    "    print(f\"shape: {token.shape_}\")          # sekil yapısı (örn: 'Xxxx', 'dd/dd/yyyy')\n",
    "    print(f\"is_alpha: {token.is_alpha}\")     # sadece harflerden oluşuyor mu?\n",
    "    print(f\"is_digit: {token.is_digit}\")     # sayısal bir değer mi?\n",
    "    print(f\"is_punct: {token.is_punct}\")     # noktalama işareti mi?\n",
    "    print(f\"is_space: {token.is_space}\")     # boşluk karakteri mi?\n",
    "    print(f\"is_stop: {token.is_stop}\")       # durdurma kelimesi mi? (örn: \"the\", \"is\")\n",
    "    print(f\"is_title: {token.is_title}\")     # baş harfi büyük mü?\n",
    "    print(f\"is_upper: {token.is_upper}\")     # tüm harfler büyük mü?\n",
    "    print(f\"is_lower: {token.is_lower}\")     # tüm harfler küçük mü?\n",
    "    print(f\"like_num: {token.like_num}\")     # sayıya benziyor mu? (örn: \"one\", \"1\")\n",
    "    print(f\"like_email: {token.like_email}\") # e-posta formatında mı?\n",
    "    print(f\"like_url: {token.like_url}\")     # url formatında mı?\n",
    "    print(f\"ent_type: {token.ent_type_}\")    # varlık türü (örn: PERSON, ORG, GPE)\n",
    "    print(f\"ent_iob: {token.ent_iob_}\")      # token'in varlık içerisindeki konumu (B, I, O)\n",
    "    print(f\"idx: {token.idx}\")               # metin içerisindeki başlangıç karakter pozisyonu\n",
    "    print(f\"has_vector: {token.has_vector}\") # vektör temsili var mı (word embedding)?\n",
    "    print(f\"is_oov: {token.is_oov}\")         # sözlük dışı (Out-Of-Vocabulary) kelime mi?\n",
    "    print(f\"rank: {token.rank}\")             # kelimenin frekans sıralaması (0 en sık)\n",
    "    print(f\"prob: {token.prob}\")             # log olasılık değeri (sıklık bazlı)\n",
    "    print(\"-\" * 50)  # Görsel ayraç"
   ]
  },
  {
   "cell_type": "code",
   "execution_count": null,
   "id": "f1461dcd-e63b-4799-9f18-b5e2a7e19a2f",
   "metadata": {},
   "outputs": [],
   "source": []
  },
  {
   "cell_type": "code",
   "execution_count": null,
   "id": "8ea9be97-6dea-42d7-9378-2bdc97132a21",
   "metadata": {},
   "outputs": [],
   "source": []
  }
 ],
 "metadata": {
  "kernelspec": {
   "display_name": "Python 3 (ipykernel)",
   "language": "python",
   "name": "python3"
  },
  "language_info": {
   "codemirror_mode": {
    "name": "ipython",
    "version": 3
   },
   "file_extension": ".py",
   "mimetype": "text/x-python",
   "name": "python",
   "nbconvert_exporter": "python",
   "pygments_lexer": "ipython3",
   "version": "3.9.20"
  }
 },
 "nbformat": 4,
 "nbformat_minor": 5
}
