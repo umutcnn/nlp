{
 "cells": [
  {
   "cell_type": "markdown",
   "id": "6c2232c1-04c2-4aea-b3e4-a7857e993fed",
   "metadata": {},
   "source": [
    "Doğal dilde birçok kelime, kullanıldığı bağlama göre farklı anlamlar taşıyabilir. Bu durum, anlamın doğru şekilde belirlenmesini zorlaştırır. Kelime Anlamı Belirsizliği Giderme (Word Sense Disambiguation - WSD), çok anlamlı kelimelerin içinde bulundukları bağlama göre en uygun anlamının seçilmesini sağlayan bir tekniktir. Bu yöntem sayesinde, makine çevirisi, metin anlama, bilgi çıkarımı gibi pek çok doğal dil işleme uygulamasında daha doğru ve anlamlı sonuçlar elde edilebilir. WSD, özellikle insanlar için sezgisel olarak kolay olan anlam ayrımının, makineler tarafından sistematik şekilde yapılabilmesini hedefler."
   ]
  },
  {
   "cell_type": "code",
   "execution_count": 1,
   "id": "44bcb6c0-6593-4af7-814b-c78ff144d0c5",
   "metadata": {},
   "outputs": [],
   "source": [
    "import nltk\n",
    "from nltk.wsd import lesk \n"
   ]
  },
  {
   "cell_type": "code",
   "execution_count": 3,
   "id": "baeae516-5afe-4beb-8aef-e45994bfce47",
   "metadata": {},
   "outputs": [
    {
     "name": "stderr",
     "output_type": "stream",
     "text": [
      "[nltk_data] Downloading package wordnet to\n",
      "[nltk_data]     C:\\Users\\UMUT\\AppData\\Roaming\\nltk_data...\n",
      "[nltk_data]   Package wordnet is already up-to-date!\n",
      "[nltk_data] Error loading own-1.4: Package 'own-1.4' not found in\n",
      "[nltk_data]     index\n",
      "[nltk_data] Downloading package punkt to\n",
      "[nltk_data]     C:\\Users\\UMUT\\AppData\\Roaming\\nltk_data...\n",
      "[nltk_data]   Package punkt is already up-to-date!\n"
     ]
    },
    {
     "data": {
      "text/plain": [
       "True"
      ]
     },
     "execution_count": 3,
     "metadata": {},
     "output_type": "execute_result"
    }
   ],
   "source": [
    "#gerekli nltk paketlerini indirelim\n",
    "nltk.download(\"wordnet\")\n",
    "nltk.download(\"own-1.4\")\n",
    "nltk.download(\"punkt\")"
   ]
  },
  {
   "cell_type": "code",
   "execution_count": 8,
   "id": "ac17afa4-4b3f-4969-bfce-a189db5e65df",
   "metadata": {},
   "outputs": [
    {
     "name": "stdout",
     "output_type": "stream",
     "text": [
      "Cumle: I go to the bank to deposit money\n",
      "Word: bank\n",
      "Sense: a container (usually with a slot in the top) for keeping money at home\n"
     ]
    }
   ],
   "source": [
    "#ilk cumle\n",
    "s1 = \"I go to the bank to deposit money\"\n",
    "w1 = \"bank\"\n",
    "\n",
    "sense1 = lesk(nltk.word_tokenize(s1), w1)\n",
    "print(f\"Cumle: {s1}\")\n",
    "print(f\"Word: {w1}\")\n",
    "print(f\"Sense: {sense1.definition()}\")\n"
   ]
  },
  {
   "cell_type": "code",
   "execution_count": 9,
   "id": "f6536a07-af9b-420d-8bfd-74fad8843008",
   "metadata": {},
   "outputs": [
    {
     "name": "stdout",
     "output_type": "stream",
     "text": [
      "Cumle: The river bank is flooded after the heavy rain\n",
      "Word: bank\n",
      "Sense: a slope in the turn of a road or track; the outside is higher than the inside in order to reduce the effects of centrifugal force\n"
     ]
    }
   ],
   "source": [
    "s2 = \"The river bank is flooded after the heavy rain\"\n",
    "w2 = \"bank\"\n",
    "sense2 = lesk(nltk.word_tokenize(s2),w2)\n",
    "print(f\"Cumle: {s2}\")\n",
    "print(f\"Word: {w2}\")\n",
    "print(f\"Sense: {sense2.definition()}\")"
   ]
  },
  {
   "cell_type": "markdown",
   "id": "25c8b927-0cea-4c84-b274-da9cb2ea0f93",
   "metadata": {},
   "source": [
    "Pek faydali sonuçlar üretilmemiştir."
   ]
  },
  {
   "cell_type": "code",
   "execution_count": null,
   "id": "7d7221df-a600-4a82-915a-a1c27d9f63c9",
   "metadata": {},
   "outputs": [],
   "source": []
  }
 ],
 "metadata": {
  "kernelspec": {
   "display_name": "Python 3 (ipykernel)",
   "language": "python",
   "name": "python3"
  },
  "language_info": {
   "codemirror_mode": {
    "name": "ipython",
    "version": 3
   },
   "file_extension": ".py",
   "mimetype": "text/x-python",
   "name": "python",
   "nbconvert_exporter": "python",
   "pygments_lexer": "ipython3",
   "version": "3.9.20"
  }
 },
 "nbformat": 4,
 "nbformat_minor": 5
}
