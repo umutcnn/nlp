{
 "cells": [
  {
   "cell_type": "raw",
   "id": "83fa75c3-8b6c-4a79-947e-f50803aefef3",
   "metadata": {
    "jupyter": {
     "source_hidden": true
    }
   },
   "source": [
    "varlik ismi tanima: metin (cumle) -> metin içerisinde bulunan varlık isimlerini tanıma\n",
    "Varlık İsmi Tanıma (Named Entity Recognition - NER), bir metin ya da cümle içerisindeki özel isimleri otomatik olarak tespit etmeyi amaçlayan bir tekniktir. Bu işlem sırasında sistem; kişi adları, yer adları, organizasyon isimleri, tarih ve zaman ifadeleri gibi belirli türdeki kelimeleri ya da kelime gruplarını tanımlar ve kategorilere ayırır.\n",
    "\n",
    "Örneğin, \"Ahmet İstanbul'da bir teknoloji şirketinde çalışıyor.\" cümlesinde \"Ahmet\" kişi adı olarak, \"İstanbul\" yer adı olarak, \"teknoloji şirketi\" ise organizasyon ismi olarak sınıflandırılabilir."
   ]
  },
  {
   "cell_type": "code",
   "execution_count": 1,
   "id": "873ef0ea-d87f-4193-a12b-db8c3546c478",
   "metadata": {},
   "outputs": [],
   "source": [
    "import pandas as pd\n",
    "import spacy"
   ]
  },
  {
   "cell_type": "code",
   "execution_count": 2,
   "id": "6512e9bf-d149-4f46-a0d3-06555472d7d3",
   "metadata": {},
   "outputs": [],
   "source": [
    "# spacy modeli ile varlik ismi tanima\n",
    "nlp = spacy.load(\"en_core_web_sm\") #ingilizce dil modeli"
   ]
  },
  {
   "cell_type": "code",
   "execution_count": 4,
   "id": "496ffcdc-69cc-42f7-be1d-d93ee3228456",
   "metadata": {},
   "outputs": [
    {
     "name": "stdout",
     "output_type": "stream",
     "text": [
      "alice works PERSON\n",
      "Amazon ORG\n",
      "London GPE\n",
      "the British Museum ORG\n",
      "last weekend DATE\n"
     ]
    }
   ],
   "source": [
    "content = \"Alice works at Amazon and lives in London. She visited the British Museum last weekend.\"\n",
    "\n",
    "doc = nlp(content) # bu işlem metindeki varlıkları(entities) analiz eder.\n",
    "\n",
    "for ent in doc.ents:  \n",
    "    # doc nesnesindeki tüm varlıkları (entities) tek tek döngü ile gez  \n",
    "    # doc.ents, Spacy modelinin bulduğu varlık isimleri listesidir  \n",
    "\n",
    "    # ent.text: Varlığın metin içindeki kelime veya kelime grubu (örneğin \"Alice\", \"Amazon\")  \n",
    "    # ent.start_char: Varlığın metin içerisindeki başlangıç karakterinin indeksi (0 tabanlı)  \n",
    "    # ent.end_char: Varlığın metin içerisindeki bitiş karakterinin bir sonraki indeks değeri (bitiş dahil değil)  \n",
    "    # ent.label_: Varlığın türü (örneğin PERSON, ORG, GPE gibi)  \n",
    "\n",
    "    print(ent.text, ent.start_char, ent.end_char, ent.label_)  \n",
    "    # Varlık ismi, başlangıç ve bitiş pozisyonları ile türünü ekrana yazdır  \n"
   ]
  },
  {
   "cell_type": "code",
   "execution_count": null,
   "id": "e630d8fa-62d6-4ace-97cf-5d2f92f99b19",
   "metadata": {},
   "outputs": [],
   "source": []
  }
 ],
 "metadata": {
  "kernelspec": {
   "display_name": "Python 3 (ipykernel)",
   "language": "python",
   "name": "python3"
  },
  "language_info": {
   "codemirror_mode": {
    "name": "ipython",
    "version": 3
   },
   "file_extension": ".py",
   "mimetype": "text/x-python",
   "name": "python",
   "nbconvert_exporter": "python",
   "pygments_lexer": "ipython3",
   "version": "3.9.20"
  }
 },
 "nbformat": 4,
 "nbformat_minor": 5
}
