{
 "cells": [
  {
   "cell_type": "markdown",
   "id": "0832b896-41cc-4a14-b9ce-d4aa6dcc9e4a",
   "metadata": {},
   "source": [
    "Metin Parçası Etiketleme (POS Tagging), metindeki her kelimenin hangi türden olduğunu belirlemeye yönelik önemli bir işlemdir."
   ]
  },
  {
   "cell_type": "code",
   "execution_count": 1,
   "id": "4031d372-f75c-4c82-be32-c5402c3787e5",
   "metadata": {},
   "outputs": [],
   "source": [
    "import spacy\n",
    "nlp = spacy.load(\"en_core_web_sm\")"
   ]
  },
  {
   "cell_type": "code",
   "execution_count": 2,
   "id": "7bde9d8c-2a53-4838-9203-2f62c921cf1a",
   "metadata": {},
   "outputs": [
    {
     "name": "stdout",
     "output_type": "stream",
     "text": [
      "What PRON\n",
      "is AUX\n",
      "the DET\n",
      "wather NOUN\n",
      "like INTJ\n",
      "today NOUN\n",
      "or CCONJ\n",
      "tomorrow NOUN\n"
     ]
    }
   ],
   "source": [
    "sentence1 = \"What is the wather like today or tomorrow\"\n",
    "doc1=nlp(sentence1)\n",
    "\n",
    "for token in doc1:\n",
    "    print(token.text, token.pos_)"
   ]
  },
  {
   "cell_type": "code",
   "execution_count": null,
   "id": "ab7ecded-137d-4a86-a1bf-38ffd266d15e",
   "metadata": {},
   "outputs": [],
   "source": []
  }
 ],
 "metadata": {
  "kernelspec": {
   "display_name": "Python 3 (ipykernel)",
   "language": "python",
   "name": "python3"
  },
  "language_info": {
   "codemirror_mode": {
    "name": "ipython",
    "version": 3
   },
   "file_extension": ".py",
   "mimetype": "text/x-python",
   "name": "python",
   "nbconvert_exporter": "python",
   "pygments_lexer": "ipython3",
   "version": "3.9.20"
  }
 },
 "nbformat": 4,
 "nbformat_minor": 5
}
