{
 "cells": [
  {
   "cell_type": "code",
   "execution_count": null,
   "id": "a67ea7d3-4ac1-4d21-b423-11031947950b",
   "metadata": {},
   "outputs": [],
   "source": [
    "TF (Term Frequency) : Bir kelimenin bir belgede ne kadar sık geçtiğini ölçer.\n",
    "    \n",
    "IDF (Inverse Document Frenquency) : Bir kelimenin tüm belgedeki yaygınlığını ölçer. \n",
    "Bir kelime birden fazla belgede geçiyorsa, o kelime çok fazla bilgi sağlamaz.\n"
   ]
  },
  {
   "cell_type": "code",
   "execution_count": 3,
   "id": "bba9b8e3-cb17-4f79-85a5-3c06b816c7f8",
   "metadata": {},
   "outputs": [],
   "source": [
    "#kütüphaneleri içeri aktarıyoruz\n",
    "import pandas as pd \n",
    "import numpy as np\n",
    "from sklearn.feature_extraction.text import TfidfVectorizer"
   ]
  },
  {
   "cell_type": "code",
   "execution_count": 4,
   "id": "fa177fb7-d21a-43fb-bf98-fa480c0782ad",
   "metadata": {},
   "outputs": [],
   "source": [
    "#Ornek belge olusturuyoruz\n",
    "documents = [\n",
    "    \"Köpek çok tatlı bir hayvandır\",\n",
    "    \"Köpek ve kuşlar çok tatlı hayvanlardır.\"\n",
    "    \"İnekler süt üretirler.\"]"
   ]
  },
  {
   "cell_type": "code",
   "execution_count": 5,
   "id": "243f6e61-7d62-4465-a019-d4000c8b1e6c",
   "metadata": {},
   "outputs": [],
   "source": [
    "#vektorizer tanımlıyoruz\n",
    "tfidf_vectorizer = TfidfVectorizer()"
   ]
  },
  {
   "cell_type": "code",
   "execution_count": 6,
   "id": "6955e6a7-bd1d-4b38-b03d-ac16fafdaa5d",
   "metadata": {},
   "outputs": [],
   "source": [
    "#metinleri sayisal hale ceviriyoruz\n",
    "x = tfidf_vectorizer.fit_transform(documents)"
   ]
  },
  {
   "cell_type": "code",
   "execution_count": 7,
   "id": "284d6bc1-b328-4d0b-8aa4-c6d6dcaf4a8a",
   "metadata": {},
   "outputs": [],
   "source": [
    "#kelime kümesini inceliyoruz\n",
    "feature_names = tfidf_vectorizer.get_feature_names_out()"
   ]
  },
  {
   "cell_type": "code",
   "execution_count": 10,
   "id": "f956900e-f87d-49ea-8998-c175e3b6d1b2",
   "metadata": {},
   "outputs": [
    {
     "name": "stdout",
     "output_type": "stream",
     "text": [
      "[[0.53309782 0.53309782 0.         0.         0.37930349 0.\n",
      "  0.         0.37930349 0.         0.37930349 0.        ]\n",
      " [0.         0.         0.36469323 0.36469323 0.25948224 0.36469323\n",
      "  0.36469323 0.25948224 0.36469323 0.25948224 0.36469323]]\n"
     ]
    }
   ],
   "source": [
    "# vektor temsilini incele \n",
    "vector_temsili = x.toarray()\n",
    "print(vector_temsili)\n",
    "\n",
    "df_tfidf = pd.DataFrame(vector_temsili, columns=feature_names)"
   ]
  },
  {
   "cell_type": "code",
   "execution_count": 12,
   "id": "1b70ca92-a5b8-4586-93e4-6ed116ac3ad2",
   "metadata": {},
   "outputs": [
    {
     "name": "stdout",
     "output_type": "stream",
     "text": [
      "bir             0.266549\n",
      "hayvandır       0.266549\n",
      "hayvanlardır    0.182347\n",
      "kuşlar          0.182347\n",
      "köpek           0.319393\n",
      "nekler          0.182347\n",
      "süt             0.182347\n",
      "tatlı           0.319393\n",
      "ve              0.182347\n",
      "çok             0.319393\n",
      "üretirler       0.182347\n",
      "dtype: float64\n"
     ]
    }
   ],
   "source": [
    "# ortalama tf idf degerlerine bakalim \n",
    "tf_idf = df_tfidf.mean(axis=0)\n",
    "print(tf_idf)"
   ]
  },
  {
   "cell_type": "code",
   "execution_count": null,
   "id": "2d662511-5617-41cf-af2a-0c3d948ae61e",
   "metadata": {},
   "outputs": [],
   "source": []
  },
  {
   "cell_type": "code",
   "execution_count": null,
   "id": "5816f112-8ff0-4f61-8e9b-b90c41262020",
   "metadata": {},
   "outputs": [],
   "source": []
  }
 ],
 "metadata": {
  "kernelspec": {
   "display_name": "Python 3 (ipykernel)",
   "language": "python",
   "name": "python3"
  },
  "language_info": {
   "codemirror_mode": {
    "name": "ipython",
    "version": 3
   },
   "file_extension": ".py",
   "mimetype": "text/x-python",
   "name": "python",
   "nbconvert_exporter": "python",
   "pygments_lexer": "ipython3",
   "version": "3.9.20"
  }
 },
 "nbformat": 4,
 "nbformat_minor": 5
}
