{
 "cells": [
  {
   "cell_type": "raw",
   "id": "956a1d9f-f6ed-4cc1-ac24-065f732a43c2",
   "metadata": {},
   "source": [
    "bag of words : Temel bir metin temsili yöntemidir\n",
    "metinlerdenki kelimeleri sayısal verilere dönüştürür.\n",
    "işleyiş: ilk önce kelime kümesi oluşturulur sonra her cümlede kaç kere kullanıldığı hesaplanır ve vektör temsili yapılır.\n",
    "Örnek 1:  Kedi evde\n",
    "        kelime kümesi: [\"kedi\",\"evde\",\"bahçede]\n",
    "\n",
    "        kelime frekansı hesaplama : kedi evde\n",
    "                                    kedi : 1\n",
    "                                    evde : 1\n",
    "                                    bahçede : 0\n",
    "        vektör temsili : Örnek 1: [1,1,0]\n"
   ]
  },
  {
   "cell_type": "code",
   "execution_count": 1,
   "id": "6e1a8315-a916-4c26-be8b-7c6050f57a90",
   "metadata": {},
   "outputs": [],
   "source": [
    "#count vectorizer iceriye aktar\n",
    "from sklearn.feature_extraction.text import CountVectorizer"
   ]
  },
  {
   "cell_type": "code",
   "execution_count": 2,
   "id": "1fc324a7-46eb-4357-8b7f-b182064b8574",
   "metadata": {},
   "outputs": [],
   "source": [
    "# veri seti oluştur\n",
    "documents = [\n",
    "    \"kedi bahçede\",\n",
    "    \"kedi evde\"]"
   ]
  },
  {
   "cell_type": "code",
   "execution_count": 3,
   "id": "188bcd25-b818-4bd9-abec-26a38307ab95",
   "metadata": {},
   "outputs": [],
   "source": [
    "# vectorizer tanımla\n",
    "vectorizer= CountVectorizer()"
   ]
  },
  {
   "cell_type": "code",
   "execution_count": 4,
   "id": "db3f6150-f39a-44cc-9cfc-a1d13ca5457f",
   "metadata": {},
   "outputs": [],
   "source": [
    "#metni sayısal vektörlere çevir\n",
    "x= vectorizer.fit_transform(documents)"
   ]
  },
  {
   "cell_type": "code",
   "execution_count": 7,
   "id": "b845d65e-9ec5-4024-b838-80fa94c33a69",
   "metadata": {},
   "outputs": [],
   "source": [
    "# kelime kümesi oluşturma[bahçede, kedi, evde]\n",
    "feature_names = vectorizer.get_feature_names_out()"
   ]
  },
  {
   "cell_type": "code",
   "execution_count": 8,
   "id": "cd653a58-38d3-4929-933b-f64d5b96f0a0",
   "metadata": {},
   "outputs": [
    {
     "name": "stdout",
     "output_type": "stream",
     "text": [
      "[[1 0 1]\n",
      " [0 1 1]]\n"
     ]
    }
   ],
   "source": [
    "#vektör temsili\n",
    "vector_temsili = x.toarray()\n",
    "print(vector_temsili)"
   ]
  },
  {
   "cell_type": "raw",
   "id": "ff77b6dc-1640-432a-9ab8-014c7f8e7994",
   "metadata": {},
   "source": [
    "IMDB Veri Seti ile Bag Of Words"
   ]
  },
  {
   "cell_type": "code",
   "execution_count": 9,
   "id": "b92d39cf-0e87-4802-a9dd-61a7b70e6d4f",
   "metadata": {},
   "outputs": [],
   "source": [
    "#kütüphaneleri içeri aktarıyoruz\n",
    "import pandas as pd \n",
    "from sklearn.feature_extraction.text import CountVectorizer\n",
    "import re\n",
    "from collections import Counter"
   ]
  },
  {
   "cell_type": "code",
   "execution_count": 10,
   "id": "3b92da9b-d5c7-4ca4-aff0-7828a545db22",
   "metadata": {},
   "outputs": [],
   "source": [
    "#veri setini içeriye aktarıyoruz\n",
    "df = pd.read_csv(\"IMDB_Dataset.csv\")\n",
    "\n",
    "#metin verilerini alalım \n",
    "documents = df[\"review\"]\n",
    "labels = df[\"sentiment\"] #positive veya negative"
   ]
  },
  {
   "cell_type": "code",
   "execution_count": 12,
   "id": "1a25d818-37ae-44c6-ae7b-6caac8580256",
   "metadata": {},
   "outputs": [],
   "source": [
    "#metin temizleme \n",
    "def clean_text(text):\n",
    "    #buyuk kucuk harf cevrimi\n",
    "    text = text.lower()\n",
    "    \n",
    "    #rakamları temizleme\n",
    "    text = re.sub(r\"\\d+\",\"\",text)    \n",
    "\n",
    "    #ozel karakterlerin kaldırılması\n",
    "    text = re.sub(r\"[^\\w\\s]\",\"\",text)  \n",
    "\n",
    "    #kısa kelimelerin temizlenmesi(anlamsız kelimelerin temizlenmesi)\n",
    "    text = \" \".join([word for word in text.split() if len(word) > 2 ])\n",
    "\n",
    "    return text #temizlenmiş text'i döndürüyoruz \n",
    "#metinleri temizle\n",
    "cleaned_doc = [clean_text(row) for row in documents]"
   ]
  },
  {
   "cell_type": "code",
   "execution_count": 18,
   "id": "4e0cb8b6-a032-4705-8a55-a9201834cffc",
   "metadata": {},
   "outputs": [
    {
     "name": "stdout",
     "output_type": "stream",
     "text": [
      "[[0 0 0 ... 0 0 0]\n",
      " [0 0 0 ... 0 0 0]\n",
      " [0 0 0 ... 0 0 0]\n",
      " ...\n",
      " [0 0 0 ... 0 0 0]\n",
      " [0 0 0 ... 0 0 0]\n",
      " [0 0 0 ... 0 0 0]]\n",
      "[1 1 2 ... 1 1 1]\n",
      "[(1, 2581), (2, 615), (3, 278), (4, 155), (5, 80)]\n"
     ]
    }
   ],
   "source": [
    "import pandas as pd\n",
    "from sklearn.feature_extraction.text import CountVectorizer\n",
    "from collections import Counter\n",
    "\n",
    "# BoW (Bag of Words) modelini oluşturmak için CountVectorizer tanımla\n",
    "vectorizer = CountVectorizer()\n",
    "\n",
    "# İlk 75 temizlenmiş metni sayısal hale getir\n",
    "x = vectorizer.fit_transform(cleaned_doc[:75])\n",
    "\n",
    "# Kelime özelliklerini al\n",
    "feature_names = vectorizer.get_feature_names_out()\n",
    "\n",
    "# Vektör temsili (BoW matrisini) göster\n",
    "vector_temsili2 = x.toarray()\n",
    "print(\"Bag of Words Vektör Temsili:\\n\", vector_temsili2)\n",
    "\n",
    "# Bag of Words matrisini bir DataFrame'e dönüştür\n",
    "df_bow = pd.DataFrame(vector_temsili2, columns=feature_names)\n",
    "print(\"BoW DataFrame:\\n\", df_bow.head())  # İlk 5 satırı göster\n",
    "\n",
    "# Kelime frekanslarını hesapla\n",
    "word_counts = x.sum(axis=0).A1\n",
    "word_freq = pd.Series(word_counts, index=feature_names)\n",
    "\n",
    "# Kelime frekanslarını büyükten küçüğe sırala ve ilk 5 kelimeyi getir\n",
    "most_common_5_words = word_freq.sort_values(ascending=False).head(5)\n",
    "print(\"En Çok Geçen 5 Kelime:\\n\", most_common_5_words)\n"
   ]
  },
  {
   "cell_type": "code",
   "execution_count": null,
   "id": "eee113e1-041f-47d7-b994-e24ec9ae34b5",
   "metadata": {},
   "outputs": [],
   "source": []
  },
  {
   "cell_type": "code",
   "execution_count": null,
   "id": "2d472e7b-5b37-48ff-a5d9-b4ef8668b08b",
   "metadata": {},
   "outputs": [],
   "source": []
  },
  {
   "cell_type": "code",
   "execution_count": null,
   "id": "0132280d-0635-481b-978b-77c52a75da6a",
   "metadata": {},
   "outputs": [],
   "source": []
  }
 ],
 "metadata": {
  "kernelspec": {
   "display_name": "Python 3 (ipykernel)",
   "language": "python",
   "name": "python3"
  },
  "language_info": {
   "codemirror_mode": {
    "name": "ipython",
    "version": 3
   },
   "file_extension": ".py",
   "mimetype": "text/x-python",
   "name": "python",
   "nbconvert_exporter": "python",
   "pygments_lexer": "ipython3",
   "version": "3.9.20"
  }
 },
 "nbformat": 4,
 "nbformat_minor": 5
}
