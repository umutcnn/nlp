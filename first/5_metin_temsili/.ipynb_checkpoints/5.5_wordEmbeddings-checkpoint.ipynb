{
 "cells": [
  {
   "cell_type": "raw",
   "id": "14643625-8250-4025-b32d-66e127108ec2",
   "metadata": {},
   "source": [
    "Word Embedding, kelimeleri sayılarla ifade eden bir tekniktir. \n",
    "Amaç, kelimeleri vektörlere dönüştürerek anlamlarını matematiksel olarak temsil etmektir.\n",
    "\"Kral - Erkek + Kadın = Kraliçe\""
   ]
  },
  {
   "cell_type": "code",
   "execution_count": 9,
   "id": "697c2e3c-6920-4974-bae2-000c103ae5bc",
   "metadata": {},
   "outputs": [],
   "source": [
    "#kütüphaneleri içeri aktarıyoruz\n",
    "import pandas as pd \n",
    "import matplotlib.pyplot as plt\n",
    "import re\n",
    "from sklearn.decomposition import PCA\n",
    "from gensim.models import Word2Vec\n",
    "from gensim.utils import simple_preprocess"
   ]
  },
  {
   "cell_type": "code",
   "execution_count": 10,
   "id": "da6634ee-5a67-4400-b49a-ed538a7181ad",
   "metadata": {},
   "outputs": [],
   "source": [
    "#veri setini yüklüyoruz\n",
    "df = pd.read_csv(\"IMDB_Dataset.csv\")\n",
    "documents = df[\"review\"]"
   ]
  },
  {
   "cell_type": "code",
   "execution_count": 12,
   "id": "7cedde9b-0ec1-428a-82bb-d13ffecdd4b9",
   "metadata": {},
   "outputs": [],
   "source": [
    "#metin temizleme \n",
    "def clean_text(text):\n",
    "    #buyuk kucuk harf cevrimi\n",
    "    text = text.lower()\n",
    "    \n",
    "    #rakamları temizleme\n",
    "    text = re.sub(r\"\\d+\",\"\",text)    \n",
    "\n",
    "    #ozel karakterlerin kaldırılması\n",
    "    text = re.sub(r\"[^\\w\\s]\",\"\",text)  \n",
    "\n",
    "    #kısa kelimelerin temizlenmesi(anlamsız kelimelerin temizlenmesi)\n",
    "    text = \" \".join([word for word in text.split() if len(word) > 2 ])\n",
    "\n",
    "    return text #temizlenmiş text'i döndürüyoruz \n",
    "#metinleri temizle\n",
    "cleaned_documents = [clean_text(doc) for doc in documents]\n",
    "\n",
    "#metin tokenizasyon\n",
    "tokenized_documents = [simple_preprocess(doc) for doc in cleaned_documents]\n",
    "\n",
    "\n"
   ]
  },
  {
   "cell_type": "code",
   "execution_count": 13,
   "id": "f1f217cd-1e56-48e8-b519-ca02bb0a4cec",
   "metadata": {},
   "outputs": [
    {
     "ename": "TypeError",
     "evalue": "__init__() got an unexpected keyword argument 'mincount'",
     "output_type": "error",
     "traceback": [
      "\u001b[1;31m---------------------------------------------------------------------------\u001b[0m",
      "\u001b[1;31mTypeError\u001b[0m                                 Traceback (most recent call last)",
      "Cell \u001b[1;32mIn[13], line 2\u001b[0m\n\u001b[0;32m      1\u001b[0m \u001b[38;5;66;03m#word2Vec modeli tanimla \u001b[39;00m\n\u001b[1;32m----> 2\u001b[0m model \u001b[38;5;241m=\u001b[39m \u001b[43mWord2Vec\u001b[49m\u001b[43m(\u001b[49m\u001b[43msentences\u001b[49m\u001b[38;5;241;43m=\u001b[39;49m\u001b[43mtokenized_documents\u001b[49m\u001b[43m,\u001b[49m\u001b[43m \u001b[49m\u001b[43mvector_size\u001b[49m\u001b[38;5;241;43m=\u001b[39;49m\u001b[38;5;241;43m50\u001b[39;49m\u001b[43m,\u001b[49m\u001b[43m \u001b[49m\u001b[43mwindow\u001b[49m\u001b[38;5;241;43m=\u001b[39;49m\u001b[38;5;241;43m5\u001b[39;49m\u001b[43m,\u001b[49m\u001b[43m \u001b[49m\u001b[43mmincount\u001b[49m\u001b[38;5;241;43m=\u001b[39;49m\u001b[38;5;241;43m1\u001b[39;49m\u001b[43m,\u001b[49m\u001b[43m \u001b[49m\u001b[43msg\u001b[49m\u001b[38;5;241;43m=\u001b[39;49m\u001b[38;5;241;43m0\u001b[39;49m\u001b[43m)\u001b[49m\n\u001b[0;32m      3\u001b[0m word_vectors \u001b[38;5;241m=\u001b[39mmodel\u001b[38;5;241m.\u001b[39mwv\n\u001b[0;32m      4\u001b[0m words \u001b[38;5;241m=\u001b[39m \u001b[38;5;28mlist\u001b[39m(word_vectors\u001b[38;5;241m.\u001b[39mintex_to_key)[:\u001b[38;5;241m500\u001b[39m]\n",
      "\u001b[1;31mTypeError\u001b[0m: __init__() got an unexpected keyword argument 'mincount'"
     ]
    }
   ],
   "source": [
    "#word2Vec modeli tanimla \n",
    "model = Word2Vec(sentences=tokenized_documents, vector_size=50, window=5, min_count=1, sg=0)\n",
    "\n",
    "word_vectors =model.wv\n",
    "words = list(word_vectors.intex_to_key)[:500]\n",
    "vectors = [word_vectors[word] for word in words]"
   ]
  },
  {
   "cell_type": "code",
   "execution_count": null,
   "id": "8012e9e5-b57a-4e52-bdd9-93e0e49bd8af",
   "metadata": {},
   "outputs": [],
   "source": []
  },
  {
   "cell_type": "code",
   "execution_count": null,
   "id": "8ff32878-a6e0-4fab-83a5-8de499652c13",
   "metadata": {},
   "outputs": [],
   "source": []
  },
  {
   "cell_type": "code",
   "execution_count": null,
   "id": "ec66fc94-5583-479e-9124-2ba79c2a4843",
   "metadata": {},
   "outputs": [],
   "source": []
  },
  {
   "cell_type": "code",
   "execution_count": null,
   "id": "dc7feb1d-f67f-419f-8f79-60f4445dcb8c",
   "metadata": {},
   "outputs": [],
   "source": []
  }
 ],
 "metadata": {
  "kernelspec": {
   "display_name": "Python 3 (ipykernel)",
   "language": "python",
   "name": "python3"
  },
  "language_info": {
   "codemirror_mode": {
    "name": "ipython",
    "version": 3
   },
   "file_extension": ".py",
   "mimetype": "text/x-python",
   "name": "python",
   "nbconvert_exporter": "python",
   "pygments_lexer": "ipython3",
   "version": "3.9.20"
  }
 },
 "nbformat": 4,
 "nbformat_minor": 5
}
