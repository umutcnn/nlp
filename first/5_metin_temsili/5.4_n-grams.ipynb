{
 "cells": [
  {
   "cell_type": "raw",
   "id": "9c8fda53-2153-4fc6-8ec4-6ffff9c4e8ce",
   "metadata": {},
   "source": [
    "N-gram, bir metindeki ardışık N kelimeden veya karakterden oluşan dizilere verilen isimdir. \n",
    "\n",
    "Unigram (1-gram): Tek kelimelerden oluşur.\n",
    "Örnek: \"bu bir örnek\" → [\"bu\", \"bir\", \"örnek\"]\n",
    "\n",
    "Bigram  (2-gram): İkili kelime grupları oluşturur.\n",
    "Örnek: \"bu bir örnek\" → [\"bu bir\", \"bir örnek\"]\n",
    "\n",
    "Trigram (3-gram): Üçlü kelime grupları oluşturur.\n",
    "Örnek: \"bu bir örnek\" → [\"bu bir örnek\"]"
   ]
  },
  {
   "cell_type": "code",
   "execution_count": 2,
   "id": "c5bfd284-36cb-49f1-80bc-23019b6ef740",
   "metadata": {},
   "outputs": [],
   "source": [
    "#kütüphaneleri içeri aktar\n",
    "from sklearn.feature_extraction.text import CountVectorizer"
   ]
  },
  {
   "cell_type": "code",
   "execution_count": 3,
   "id": "706021ca-e697-449c-aaab-0c7a9509ae5f",
   "metadata": {},
   "outputs": [],
   "source": [
    "#ornek metin\n",
    "documents = [\n",
    "    \"Bu çalışma NGram çalışmasıdır.\",\n",
    "    \"Bu çalışma doğal dil işleme çalışmasıdır.\"]"
   ]
  },
  {
   "cell_type": "code",
   "execution_count": 4,
   "id": "0d0e869f-baf5-4302-840b-0ac33fae9fe8",
   "metadata": {},
   "outputs": [],
   "source": [
    "# Unigram, Bigram ve Trigram seklinde 3 farklı n değerine sahip gram modeli\n",
    "vectorizer_unigram = CountVectorizer(ngram_range = (1,1))\n",
    "vectorizer_bigram = CountVectorizer(ngram_range = (2,2))\n",
    "vectorizer_trigram = CountVectorizer(ngram_range = (3,3))\n",
    "\n"
   ]
  },
  {
   "cell_type": "code",
   "execution_count": 7,
   "id": "4f8eed8c-c8de-4630-bf52-5b8e77bdfb79",
   "metadata": {},
   "outputs": [],
   "source": [
    "#unigram\n",
    "x_unigram = vectorizer_unigram.fit_transform(documents)\n",
    "unigram_features = vectorizer_unigram.get_feature_names_out()"
   ]
  },
  {
   "cell_type": "code",
   "execution_count": 8,
   "id": "4b1c1edb-4cc9-40f4-a124-da5cc045a582",
   "metadata": {},
   "outputs": [],
   "source": [
    "#bigram\n",
    "x_bigram = vectorizer_bigram.fit_transform(documents)\n",
    "bigram_features = vectorizer_bigram.get_feature_names_out()"
   ]
  },
  {
   "cell_type": "code",
   "execution_count": 9,
   "id": "137dda44-e3a4-4090-ab92-9a87f4f708a1",
   "metadata": {},
   "outputs": [],
   "source": [
    "#trigram\n",
    "x_trigram = vectorizer_trigram.fit_transform(documents)\n",
    "trigram_features = vectorizer_trigram.get_feature_names_out()"
   ]
  },
  {
   "cell_type": "code",
   "execution_count": 11,
   "id": "a9d60b98-4bed-42ae-b012-1efc621bedcc",
   "metadata": {},
   "outputs": [
    {
     "name": "stdout",
     "output_type": "stream",
     "text": [
      "unigram_features: ['bu' 'dil' 'doğal' 'işleme' 'ngram' 'çalışma' 'çalışmasıdır']\n",
      "bigram_features: ['bu çalışma' 'dil işleme' 'doğal dil' 'işleme çalışmasıdır'\n",
      " 'ngram çalışmasıdır' 'çalışma doğal' 'çalışma ngram']\n",
      "trigram_features: ['bu çalışma doğal' 'bu çalışma ngram' 'dil işleme çalışmasıdır'\n",
      " 'doğal dil işleme' 'çalışma doğal dil' 'çalışma ngram çalışmasıdır']\n"
     ]
    }
   ],
   "source": [
    "#sonuçların incelenmesi\n",
    "print(f\"unigram_features: {unigram_features}\")\n",
    "print(f\"bigram_features: {bigram_features}\")\n",
    "print(f\"trigram_features: {trigram_features}\")"
   ]
  },
  {
   "cell_type": "code",
   "execution_count": null,
   "id": "58fca58a-2d52-4c72-ac75-85d856fa8277",
   "metadata": {},
   "outputs": [],
   "source": []
  }
 ],
 "metadata": {
  "kernelspec": {
   "display_name": "Python 3 (ipykernel)",
   "language": "python",
   "name": "python3"
  },
  "language_info": {
   "codemirror_mode": {
    "name": "ipython",
    "version": 3
   },
   "file_extension": ".py",
   "mimetype": "text/x-python",
   "name": "python",
   "nbconvert_exporter": "python",
   "pygments_lexer": "ipython3",
   "version": "3.9.20"
  }
 },
 "nbformat": 4,
 "nbformat_minor": 5
}
