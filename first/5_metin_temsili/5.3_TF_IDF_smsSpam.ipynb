{
 "cells": [
  {
   "cell_type": "code",
   "execution_count": 1,
   "id": "70153cd4-9e3a-4ebb-bc80-cf1a939ff4da",
   "metadata": {},
   "outputs": [],
   "source": [
    "#kütüphaneleri içeri aktarıyoruz\n",
    "import pandas as pd \n",
    "import numpy as np\n",
    "from sklearn.feature_extraction.text import TfidfVectorizer"
   ]
  },
  {
   "cell_type": "code",
   "execution_count": 12,
   "id": "7df21561-d16a-4c74-ba54-9d570188bce0",
   "metadata": {},
   "outputs": [],
   "source": [
    "#veri setini içeriye aktarıyoruz\n",
    "df = pd.read_csv(\"sms_spam.csv\")"
   ]
  },
  {
   "cell_type": "code",
   "execution_count": 15,
   "id": "4767c2d7-1c65-486c-b772-3f52ecdfdf93",
   "metadata": {},
   "outputs": [
    {
     "name": "stdout",
     "output_type": "stream",
     "text": [
      "  (0, 3571)\t0.14787938686701288\n",
      "  (0, 8084)\t0.23001892323914586\n",
      "  (0, 4374)\t0.326467645747019\n",
      "  (0, 5958)\t0.25535113536077003\n",
      "  (0, 2338)\t0.2528296765647095\n",
      "  (0, 1316)\t0.2441904570208067\n",
      "  (0, 5571)\t0.15603453765460987\n",
      "  (0, 4114)\t0.10700055412297083\n",
      "  (0, 1767)\t0.2758032215037706\n",
      "  (0, 3655)\t0.1803467768751424\n",
      "  (0, 8548)\t0.22083422107921832\n",
      "  (0, 4501)\t0.2758032215037706\n",
      "  (0, 1765)\t0.31164925159555484\n",
      "  (0, 2061)\t0.2758032215037706\n",
      "  (0, 7694)\t0.15552099304359127\n",
      "  (0, 3615)\t0.15305623970002818\n",
      "  (0, 1082)\t0.326467645747019\n",
      "  (0, 8324)\t0.182416008162686\n",
      "  (1, 5538)\t0.27190435673704183\n",
      "  (1, 4537)\t0.4083285209202484\n",
      "  (1, 4342)\t0.5236769406481622\n",
      "  (1, 8450)\t0.4316309977097208\n",
      "  (1, 5567)\t0.5466195966483365\n",
      "  (2, 4114)\t0.0790778808416933\n",
      "  (2, 3373)\t0.11311495706056472\n",
      "  :\t:\n",
      "  (5572, 4245)\t0.12207880845408346\n",
      "  (5572, 8371)\t0.18730428198312823\n",
      "  (5572, 1097)\t0.11225067656334997\n",
      "  (5572, 4642)\t0.1595487883020045\n",
      "  (5572, 7089)\t0.18433418559699824\n",
      "  (5572, 3323)\t0.12146432831326853\n",
      "  (5572, 7674)\t0.10221124687730486\n",
      "  (5572, 1451)\t0.14290608466779453\n",
      "  (5572, 5367)\t0.21011125821718868\n",
      "  (5572, 2606)\t0.18433418559699824\n",
      "  (5572, 8120)\t0.2088822179945168\n",
      "  (5572, 1794)\t0.1363365926792384\n",
      "  (5572, 7099)\t0.2054164713636139\n",
      "  (5572, 2905)\t0.24409365650012177\n",
      "  (5572, 3489)\t0.27537050563390825\n",
      "  (5572, 1802)\t0.28301544564097414\n",
      "  (5572, 3709)\t0.24259946723446624\n",
      "  (5572, 4188)\t0.28301544564097414\n",
      "  (5572, 914)\t0.32486921516397455\n",
      "  (5572, 1561)\t0.3403161961957918\n",
      "  (5573, 7806)\t0.14853870968826735\n",
      "  (5573, 5276)\t0.390908096648639\n",
      "  (5573, 4253)\t0.5785471594716106\n",
      "  (5573, 7938)\t0.42358710203719485\n",
      "  (5573, 6548)\t0.5576596300197323\n"
     ]
    }
   ],
   "source": [
    "vectorizer = TfidfVectorizer()\n",
    "x = vectorizer.fit_transform(df.text)\n",
    "print(x)"
   ]
  },
  {
   "cell_type": "code",
   "execution_count": 16,
   "id": "905df145-6412-48d1-99e6-b81abcd75190",
   "metadata": {},
   "outputs": [],
   "source": [
    "#kelime kümesini inceliyoruz\n",
    "feature_names = vectorizer.get_feature_names_out()"
   ]
  },
  {
   "cell_type": "code",
   "execution_count": 17,
   "id": "a231731e-5852-4d56-9916-900a150f77e8",
   "metadata": {},
   "outputs": [
    {
     "name": "stdout",
     "output_type": "stream",
     "text": [
      "[[0. 0. 0. ... 0. 0. 0.]\n",
      " [0. 0. 0. ... 0. 0. 0.]\n",
      " [0. 0. 0. ... 0. 0. 0.]\n",
      " ...\n",
      " [0. 0. 0. ... 0. 0. 0.]\n",
      " [0. 0. 0. ... 0. 0. 0.]\n",
      " [0. 0. 0. ... 0. 0. 0.]]\n"
     ]
    }
   ],
   "source": [
    "# vektor temsilini incele \n",
    "vector_temsili = x.toarray()\n",
    "print(vector_temsili)\n",
    "\n",
    "df_tfidf = pd.DataFrame(vector_temsili, columns=feature_names)"
   ]
  },
  {
   "cell_type": "code",
   "execution_count": 18,
   "id": "2c6e1dce-7cbe-490e-a087-d21e3d32b00a",
   "metadata": {},
   "outputs": [
    {
     "name": "stdout",
     "output_type": "stream",
     "text": [
      "00              0.000402\n",
      "000             0.001161\n",
      "000pes          0.000042\n",
      "008704050406    0.000094\n",
      "0089            0.000045\n",
      "                  ...   \n",
      "zouk            0.000049\n",
      "zyada           0.000029\n",
      "èn              0.000033\n",
      "ú1              0.000040\n",
      "〨ud             0.000055\n",
      "Length: 8713, dtype: float64\n"
     ]
    }
   ],
   "source": [
    "# ortalama tf idf degerlerine bakalim \n",
    "tf_idf = df_tfidf.mean(axis=0)\n",
    "print(tf_idf)"
   ]
  },
  {
   "cell_type": "code",
   "execution_count": null,
   "id": "3830ce7d-d6fd-4561-905a-b831f69eefc1",
   "metadata": {},
   "outputs": [],
   "source": []
  }
 ],
 "metadata": {
  "kernelspec": {
   "display_name": "Python 3 (ipykernel)",
   "language": "python",
   "name": "python3"
  },
  "language_info": {
   "codemirror_mode": {
    "name": "ipython",
    "version": 3
   },
   "file_extension": ".py",
   "mimetype": "text/x-python",
   "name": "python",
   "nbconvert_exporter": "python",
   "pygments_lexer": "ipython3",
   "version": "3.9.20"
  }
 },
 "nbformat": 4,
 "nbformat_minor": 5
}
