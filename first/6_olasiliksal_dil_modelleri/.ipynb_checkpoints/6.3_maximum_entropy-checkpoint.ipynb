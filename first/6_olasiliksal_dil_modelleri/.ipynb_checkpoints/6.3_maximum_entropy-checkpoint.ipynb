{
 "cells": [
  {
   "cell_type": "code",
   "execution_count": null,
   "id": "58209f1d-131a-4222-95e4-4a6214d55793",
   "metadata": {},
   "outputs": [],
   "source": [
    "\"\"\"\n",
    "classification problem: duygu analizi -> olumlu veya olumsuz olarak sınıflandırma\n",
    "\n",
    "\"\"\""
   ]
  },
  {
   "cell_type": "code",
   "execution_count": 2,
   "id": "75a38bdd-a4ca-416e-8750-cc6f87e1995d",
   "metadata": {},
   "outputs": [],
   "source": [
    "#import libraries\n",
    "from nltk.classify import MaxentClassifier"
   ]
  },
  {
   "cell_type": "code",
   "execution_count": null,
   "id": "49e43107-460e-40dd-99e3-a5cdffc92c0f",
   "metadata": {},
   "outputs": [],
   "source": [
    "#veri seti tanımlama \n",
    "train_data = [\n",
    "    ({\"love\":True,\"amazing\":True,\"happy\":True,\"terrible\":False},\"positive\"),\n",
    "    ({\"hate\":True,\"terrible\":True},\"negative\"),\n",
    "    ({\"joy\":True,\"happy\":True,\"hate\":False},\"positive\"),\n",
    "    ({\"sad\":True,\"depressed\":True,\"love\":False},\"positive\")\n",
    "]"
   ]
  },
  {
   "cell_type": "code",
   "execution_count": null,
   "id": "6d20f4d4-9e15-4037-b5f0-ca2ffbf10dd4",
   "metadata": {},
   "outputs": [],
   "source": [
    "# train maximum entropy classifier \n",
    "classifier = MaxentClassifier.train(train_data, max_iter = 10)"
   ]
  },
  {
   "cell_type": "code",
   "execution_count": 5,
   "id": "cf785464-a5a6-46bd-ade7-1eaaa29d13c3",
   "metadata": {},
   "outputs": [
    {
     "ename": "SyntaxError",
     "evalue": "closing parenthesis ')' does not match opening parenthesis '{' (1220387504.py, line 3)",
     "output_type": "error",
     "traceback": [
      "\u001b[1;36m  Cell \u001b[1;32mIn[5], line 3\u001b[1;36m\u001b[0m\n\u001b[1;33m    features ={word: {word in test_sentence.lower().split()) for word in[\"love\",\"amazing\",\"terrible\",\"happy\",\"joy\",\"depressed\",\"sad\"]}\u001b[0m\n\u001b[1;37m                                                           ^\u001b[0m\n\u001b[1;31mSyntaxError\u001b[0m\u001b[1;31m:\u001b[0m closing parenthesis ')' does not match opening parenthesis '{'\n"
     ]
    }
   ],
   "source": [
    "#yeni cümle ile test\n",
    "test_sentence = \"I do not like this movie\"\n",
    "features = {word: (word in test_sentence.lower().split()) for word in [\"love\", \"amazing\", \"terrible\", \"happy\", \"joy\", \"depressed\", \"sad\"]}\n",
    "\n",
    "print(features)"
   ]
  },
  {
   "cell_type": "code",
   "execution_count": null,
   "id": "0418af2a-8090-4967-8c04-470c4c3086e9",
   "metadata": {},
   "outputs": [],
   "source": []
  },
  {
   "cell_type": "code",
   "execution_count": null,
   "id": "97249bcf-c13a-4f65-b7f0-c4041f724a8e",
   "metadata": {},
   "outputs": [],
   "source": []
  }
 ],
 "metadata": {
  "kernelspec": {
   "display_name": "Python 3 (ipykernel)",
   "language": "python",
   "name": "python3"
  },
  "language_info": {
   "codemirror_mode": {
    "name": "ipython",
    "version": 3
   },
   "file_extension": ".py",
   "mimetype": "text/x-python",
   "name": "python",
   "nbconvert_exporter": "python",
   "pygments_lexer": "ipython3",
   "version": "3.9.20"
  }
 },
 "nbformat": 4,
 "nbformat_minor": 5
}
