{
 "cells": [
  {
   "cell_type": "code",
   "execution_count": 9,
   "id": "58209f1d-131a-4222-95e4-4a6214d55793",
   "metadata": {},
   "outputs": [
    {
     "data": {
      "text/plain": [
       "'\\nclassification problem: duygu analizi -> olumlu veya olumsuz olarak sınıflandırma\\n\\n'"
      ]
     },
     "execution_count": 9,
     "metadata": {},
     "output_type": "execute_result"
    }
   ],
   "source": [
    "\"\"\"\n",
    "classification problem: duygu analizi -> olumlu veya olumsuz olarak sınıflandırma\n",
    "\n",
    "\"\"\""
   ]
  },
  {
   "cell_type": "code",
   "execution_count": 10,
   "id": "75a38bdd-a4ca-416e-8750-cc6f87e1995d",
   "metadata": {},
   "outputs": [],
   "source": [
    "#import libraries\n",
    "from nltk.classify import MaxentClassifier"
   ]
  },
  {
   "cell_type": "code",
   "execution_count": 11,
   "id": "49e43107-460e-40dd-99e3-a5cdffc92c0f",
   "metadata": {},
   "outputs": [],
   "source": [
    "#veri seti tanımlama \n",
    "train_data = [\n",
    "    ({\"love\":True,\"amazing\":True,\"happy\":True,\"terrible\":False},\"positive\"),\n",
    "    ({\"hate\":True,\"terrible\":True},\"negative\"),\n",
    "    ({\"joy\":True,\"happy\":True,\"hate\":False},\"positive\"),\n",
    "    ({\"sad\":True,\"depressed\":True,\"love\":False},\"positive\")\n",
    "]"
   ]
  },
  {
   "cell_type": "code",
   "execution_count": 12,
   "id": "6d20f4d4-9e15-4037-b5f0-ca2ffbf10dd4",
   "metadata": {},
   "outputs": [
    {
     "name": "stdout",
     "output_type": "stream",
     "text": [
      "  ==> Training (10 iterations)\n",
      "\n",
      "      Iteration    Log Likelihood    Accuracy\n",
      "      ---------------------------------------\n",
      "             1          -0.69315        0.750\n",
      "             2          -0.40641        1.000\n",
      "             3          -0.28861        1.000\n",
      "             4          -0.22397        1.000\n",
      "             5          -0.18304        1.000\n",
      "             6          -0.15479        1.000\n",
      "             7          -0.13410        1.000\n",
      "             8          -0.11829        1.000\n",
      "             9          -0.10582        1.000\n",
      "         Final          -0.09573        1.000\n"
     ]
    }
   ],
   "source": [
    "# train maximum entropy classifier \n",
    "classifier = MaxentClassifier.train(train_data, max_iter = 10)"
   ]
  },
  {
   "cell_type": "code",
   "execution_count": 15,
   "id": "cf785464-a5a6-46bd-ade7-1eaaa29d13c3",
   "metadata": {},
   "outputs": [
    {
     "name": "stdout",
     "output_type": "stream",
     "text": [
      "{'like': False, 'amazing': True, 'terrible': False, 'happy': False, 'joy': False, 'depressed': False, 'sad': False}\n"
     ]
    }
   ],
   "source": [
    "#yeni cümle ile test\n",
    "test_sentence = \"I love this movie and it was amazing\"\n",
    "features = {word: (word in test_sentence.lower().split()) for word in [\"like\", \"amazing\", \"terrible\", \"happy\", \"joy\", \"depressed\", \"sad\"]}\n",
    "\n",
    "print(features)"
   ]
  },
  {
   "cell_type": "code",
   "execution_count": 16,
   "id": "0418af2a-8090-4967-8c04-470c4c3086e9",
   "metadata": {},
   "outputs": [
    {
     "name": "stdout",
     "output_type": "stream",
     "text": [
      "result: positive\n"
     ]
    }
   ],
   "source": [
    "label = classifier.classify(features)\n",
    "print(f\"result: {label}\")"
   ]
  },
  {
   "cell_type": "code",
   "execution_count": null,
   "id": "97249bcf-c13a-4f65-b7f0-c4041f724a8e",
   "metadata": {},
   "outputs": [],
   "source": []
  }
 ],
 "metadata": {
  "kernelspec": {
   "display_name": "Python 3 (ipykernel)",
   "language": "python",
   "name": "python3"
  },
  "language_info": {
   "codemirror_mode": {
    "name": "ipython",
    "version": 3
   },
   "file_extension": ".py",
   "mimetype": "text/x-python",
   "name": "python",
   "nbconvert_exporter": "python",
   "pygments_lexer": "ipython3",
   "version": "3.9.20"
  }
 },
 "nbformat": 4,
 "nbformat_minor": 5
}
