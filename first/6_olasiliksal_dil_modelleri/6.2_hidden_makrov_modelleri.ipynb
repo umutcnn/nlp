{
 "cells": [
  {
   "cell_type": "raw",
   "id": "9aa54e14-692d-4a79-96b6-c964430d797b",
   "metadata": {},
   "source": [
    "Gizli markov modelleri, bir dizi gözlemin (kelimeler veya karakterler gibi) arkasında gizli bir durum dizisinin(örneğin, dil bilgisel kategoriler) olduğu varsayımına dayanır.\n",
    "\n",
    "\n",
    "her bir durumun belirli olasılıkla başka bir duruma geçeceğini ve her durumun belirli bir gözlemi üreteceğini varsayar.\n",
    "\n",
    "kullanım alanları: Konuşma tanıma, dil modelleme, parça etiketleme\n",
    "avantajlar : bağlam modelleme, verimli algoritmalar\n",
    "dezavantajlar : Basitleştirici varsayımlar, eğitim zorluğu\n"
   ]
  },
  {
   "cell_type": "code",
   "execution_count": 2,
   "id": "a04fcbda-7111-4b6e-9302-ee735f3fa347",
   "metadata": {},
   "outputs": [],
   "source": [
    "#part of speech pos: Kelimelerin uygun szcük türünü bulma çalışması\n",
    "\n",
    "#   I  (Zamir)  am a teacher (İsim)"
   ]
  },
  {
   "cell_type": "code",
   "execution_count": 3,
   "id": "cae1ede5-fbe6-4921-b217-6beb7f063b9a",
   "metadata": {},
   "outputs": [],
   "source": [
    "# kütüphaneleri içeri aktarıyoruz\n",
    "import nltk\n",
    "from nltk.tag import hmm"
   ]
  },
  {
   "cell_type": "code",
   "execution_count": 6,
   "id": "ea72dc03-ba09-42af-b510-11174ea150f1",
   "metadata": {},
   "outputs": [],
   "source": [
    "# train data tanımla\n",
    "train_data = [\n",
    "    [(\"I\",\"PRP\"),(\"am\",\"VRB\"),(\"a\",\"DT\"), (\"teacher\",\"NN\")],\n",
    "    [(\"you\",\"PRP\"),(\"are\",\"VRB \"),(\"a\",\"DT\"), (\"student\",\"NN\")]\n",
    "]\n",
    "\n",
    "#train HMM\n",
    "trainer = hmm.HiddenMarkovModelTrainer()\n",
    "hmm_tagger = trainer.train(train_data)"
   ]
  },
  {
   "cell_type": "code",
   "execution_count": 7,
   "id": "bf46256d-ef3e-4756-8b3f-dd88d4c013ac",
   "metadata": {},
   "outputs": [
    {
     "name": "stdout",
     "output_type": "stream",
     "text": [
      "yeni cümle : [('I', 'PRP'), ('am', 'VRB'), ('a', 'DT'), ('student', 'NN')]\n"
     ]
    }
   ],
   "source": [
    "# yeni bir cümle oluştur ve cümlenin içerisinde bulunan her bir sözcüğün türünü etiketle\n",
    "test_sentence = \"I am a student\".split()\n",
    "\n",
    "tags = hmm_tagger.tag(test_sentence)\n",
    "print(f\"yeni cümle : {tags}\")"
   ]
  },
  {
   "cell_type": "code",
   "execution_count": 8,
   "id": "80ef6200-67a6-4f50-9261-2616ecf0da75",
   "metadata": {},
   "outputs": [
    {
     "name": "stdout",
     "output_type": "stream",
     "text": [
      "yeni cümle : [('He', 'PRP'), ('is', 'PRP'), ('a', 'PRP'), ('driver', 'PRP')]\n"
     ]
    },
    {
     "name": "stderr",
     "output_type": "stream",
     "text": [
      "D:\\anaconda\\lib\\site-packages\\nltk\\tag\\hmm.py:363: RuntimeWarning: overflow encountered in cast\n",
      "  O[i, k] = self._output_logprob(si, self._symbols[k])\n"
     ]
    }
   ],
   "source": [
    "# yeni bir cümle oluştur ve cümlenin içerisinde bulunan her bir sözcüğün türünü etiketle\n",
    "test_sentence = \"He is a driver\".split()\n",
    "\n",
    "tags = hmm_tagger.tag(test_sentence)\n",
    "print(f\"yeni cümle : {tags}\")"
   ]
  },
  {
   "cell_type": "raw",
   "id": "c0d17165-c31e-4b7c-9b91-4bfa3db1be7d",
   "metadata": {},
   "source": [
    "küçük verilerle sonuçlar sağlıksız çıkmakta bu nedenle büyük veriye ihtiyaç duyuyoruz"
   ]
  },
  {
   "cell_type": "code",
   "execution_count": 11,
   "id": "5f545319-bfcc-40ef-97f2-e1943e719bbe",
   "metadata": {},
   "outputs": [],
   "source": [
    "#import libraries\n",
    "import nltk\n",
    "from nltk.tag import hmm\n",
    "from nltk.corpus import conll2000"
   ]
  },
  {
   "cell_type": "code",
   "execution_count": 14,
   "id": "393de084-b20a-4807-a149-7120ac9ceb36",
   "metadata": {},
   "outputs": [
    {
     "name": "stdout",
     "output_type": "stream",
     "text": [
      "train_data: [[('Confidence', 'NN'), ('in', 'IN'), ('the', 'DT'), ('pound', 'NN'), ('is', 'VBZ'), ('widely', 'RB'), ('expected', 'VBN'), ('to', 'TO'), ('take', 'VB'), ('another', 'DT'), ('sharp', 'JJ'), ('dive', 'NN'), ('if', 'IN'), ('trade', 'NN'), ('figures', 'NNS'), ('for', 'IN'), ('September', 'NNP'), (',', ','), ('due', 'JJ'), ('for', 'IN'), ('release', 'NN'), ('tomorrow', 'NN'), (',', ','), ('fail', 'VB'), ('to', 'TO'), ('show', 'VB'), ('a', 'DT'), ('substantial', 'JJ'), ('improvement', 'NN'), ('from', 'IN'), ('July', 'NNP'), ('and', 'CC'), ('August', 'NNP'), (\"'s\", 'POS'), ('near-record', 'JJ'), ('deficits', 'NNS'), ('.', '.')]]\n"
     ]
    },
    {
     "name": "stderr",
     "output_type": "stream",
     "text": [
      "[nltk_data] Downloading package conll2000 to\n",
      "[nltk_data]     C:\\Users\\UMUT\\AppData\\Roaming\\nltk_data...\n",
      "[nltk_data]   Package conll2000 is already up-to-date!\n"
     ]
    }
   ],
   "source": [
    "# gerekli veri setini içeriye aktar \n",
    "nltk.download(\"conll2000\")\n",
    "\n",
    "train_data = conll2000.tagged_sents(\"train.txt\")\n",
    "test_data = conll2000.tagged_sents(\"test.txt\")\n",
    "\n",
    "print(f\"train_data: {train_data[:1]}\")"
   ]
  },
  {
   "cell_type": "code",
   "execution_count": 15,
   "id": "a4ea197b-ec4a-4a0f-a94d-f61ef2219321",
   "metadata": {},
   "outputs": [],
   "source": [
    "# train hmm\n",
    "trainer = hmm.HiddenMarkovModelTrainer()\n",
    "hmm_tagger = trainer.train(train_data)"
   ]
  },
  {
   "cell_type": "code",
   "execution_count": 18,
   "id": "c07125ab-9b3f-4301-9e63-9c8f981c6bb6",
   "metadata": {},
   "outputs": [
    {
     "name": "stdout",
     "output_type": "stream",
     "text": [
      "ornek cümle: [('I', 'PRP'), ('like', 'IN'), ('going', 'VBG'), ('to', 'TO'), ('school', 'NN')]\n"
     ]
    }
   ],
   "source": [
    "# yeni cümle ve test \n",
    "test_sentence= \"I like going to school\".split()\n",
    "tags = hmm_tagger.tag(test_sentence)\n",
    "print(f\"ornek cümle: {tags}\")"
   ]
  },
  {
   "cell_type": "code",
   "execution_count": null,
   "id": "86255449-3cc4-4783-aabf-85815b1b6a13",
   "metadata": {},
   "outputs": [],
   "source": []
  }
 ],
 "metadata": {
  "kernelspec": {
   "display_name": "Python 3 (ipykernel)",
   "language": "python",
   "name": "python3"
  },
  "language_info": {
   "codemirror_mode": {
    "name": "ipython",
    "version": 3
   },
   "file_extension": ".py",
   "mimetype": "text/x-python",
   "name": "python",
   "nbconvert_exporter": "python",
   "pygments_lexer": "ipython3",
   "version": "3.9.20"
  }
 },
 "nbformat": 4,
 "nbformat_minor": 5
}
