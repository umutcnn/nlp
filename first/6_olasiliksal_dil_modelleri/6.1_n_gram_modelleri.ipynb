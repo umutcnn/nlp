{
 "cells": [
  {
   "cell_type": "code",
   "execution_count": 2,
   "id": "340e69d5-6708-4386-958b-07bfd0a4057d",
   "metadata": {},
   "outputs": [],
   "source": [
    "# import libraries\n",
    "import nltk \n",
    "from nltk.util import ngrams #n gram modeli oluşturmak için\n",
    "from nltk.tokenize import word_tokenize # tokenization\n",
    "\n",
    "from collections import Counter"
   ]
  },
  {
   "cell_type": "code",
   "execution_count": 3,
   "id": "18b2914c-fe36-4efc-86f7-5f522c4e7fa5",
   "metadata": {},
   "outputs": [],
   "source": [
    "# ornek veri seti olusturulur\n",
    "corpus = [\n",
    "    \"I love apple.\",\n",
    "    \"I love him.\",\n",
    "    \"I love nlp.\",\n",
    "    \"you love me.\",\n",
    "    \"He love apples.\",\n",
    "    \"They love apple.\",\n",
    "    \"I love you and you love me.\",\n",
    "]\n"
   ]
  },
  {
   "cell_type": "raw",
   "id": "9d139202-85eb-4a05-85f9-8f90c0767189",
   "metadata": {},
   "source": [
    "#problem tanımı \n",
    "dil modeli yapmak istiyoruz \n",
    "amac 1 kelimeden sonra gelecek kelimeyi tahmin etmek : metin türetmek/olusturmak\n",
    "bunun için n gram dil modelini kullanacağız.\n",
    "\n",
    "example : I ...(love) ...(apple) \n"
   ]
  },
  {
   "cell_type": "code",
   "execution_count": 4,
   "id": "e7a80b43-ce7c-49a0-afb5-19ecedcf0df5",
   "metadata": {},
   "outputs": [],
   "source": [
    "# verileri token haline getir\n",
    "tokens= [word_tokenize(sentence.lower()) for sentence in corpus]"
   ]
  },
  {
   "cell_type": "code",
   "execution_count": 5,
   "id": "3c4c3ccb-89b6-44cd-912e-0516d4715c0c",
   "metadata": {},
   "outputs": [],
   "source": [
    "# bigram\n",
    "bigrams = []\n",
    "for token_list in tokens: \n",
    "    bigrams.extend(list(ngrams(token_list,2)))\n",
    "bigrams_freq = Counter(bigrams)"
   ]
  },
  {
   "cell_type": "code",
   "execution_count": 11,
   "id": "da3ff24c-e721-4d74-b4c4-09ecdbb60c60",
   "metadata": {},
   "outputs": [],
   "source": [
    "# trigram\n",
    "trigrams = []\n",
    "for token_list in tokens: \n",
    "    trigrams.extend(list(ngrams(token_list,3)))\n",
    "trigrams_freq = Counter(trigrams)"
   ]
  },
  {
   "cell_type": "code",
   "execution_count": 13,
   "id": "a42e04ef-6949-45e8-8dfb-c7b1cf28586a",
   "metadata": {},
   "outputs": [
    {
     "name": "stdout",
     "output_type": "stream",
     "text": [
      "you kelimesinin olma olasılığı: 0.25\n"
     ]
    }
   ],
   "source": [
    "# model testing\n",
    "bigram = (\"i\",\"love\")#hedef bigram\n",
    "# I love you olma olasılığı \n",
    "prob_you = trigrams_freq[(\"i\", \"love\", \"you\")] / bigrams_freq[bigram]\n",
    "print(f\"you kelimesinin olma olasılığı: {prob_you}\")\n"
   ]
  },
  {
   "cell_type": "code",
   "execution_count": 14,
   "id": "aa97e95b-4713-4cb0-982e-45ebdff08fe1",
   "metadata": {},
   "outputs": [
    {
     "name": "stdout",
     "output_type": "stream",
     "text": [
      "apple kelimesinin olma olasılığı: 0.25\n"
     ]
    }
   ],
   "source": [
    "# ı love apple olma olasılığı \n",
    "prob_apple = trigrams_freq[(\"i\",\"love\",\"apple\")]/bigrams_freq[bigram]\n",
    "print(f\"apple kelimesinin olma olasılığı: {prob_you}\")"
   ]
  },
  {
   "cell_type": "code",
   "execution_count": null,
   "id": "8005bfd4-2018-41b8-8484-dbcab1772191",
   "metadata": {},
   "outputs": [],
   "source": []
  },
  {
   "cell_type": "code",
   "execution_count": null,
   "id": "dd80611f-a0b7-4171-97f1-819821e6574d",
   "metadata": {},
   "outputs": [],
   "source": []
  },
  {
   "cell_type": "code",
   "execution_count": null,
   "id": "74f97166-7db8-48d8-806a-4e06a27501f2",
   "metadata": {},
   "outputs": [],
   "source": []
  },
  {
   "cell_type": "code",
   "execution_count": null,
   "id": "284f80d5-0e12-4802-9fd7-f59824de00a3",
   "metadata": {},
   "outputs": [],
   "source": []
  },
  {
   "cell_type": "code",
   "execution_count": null,
   "id": "2b8a61fd-0060-4d89-9098-f5db67c6aa45",
   "metadata": {},
   "outputs": [],
   "source": []
  },
  {
   "cell_type": "code",
   "execution_count": null,
   "id": "952ced3b-b1a8-4563-a34f-ed4c4c9137d6",
   "metadata": {},
   "outputs": [],
   "source": []
  }
 ],
 "metadata": {
  "kernelspec": {
   "display_name": "Python 3 (ipykernel)",
   "language": "python",
   "name": "python3"
  },
  "language_info": {
   "codemirror_mode": {
    "name": "ipython",
    "version": 3
   },
   "file_extension": ".py",
   "mimetype": "text/x-python",
   "name": "python",
   "nbconvert_exporter": "python",
   "pygments_lexer": "ipython3",
   "version": "3.9.20"
  }
 },
 "nbformat": 4,
 "nbformat_minor": 5
}
