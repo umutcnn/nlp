{
 "cells": [
  {
   "cell_type": "raw",
   "id": "103e4d5e-a877-4e42-a960-32ecaddfbf7d",
   "metadata": {},
   "source": [
    "Durdurma kelimeleri(stop words)\n",
    "durdurma kelimeleri metinlerde genellikle anlamı çok az olan veya metnin analizi sırasında çok faydalı olmayan kelimelerdir\n",
    "bu kelmeler genellikle bağlaçtır, edatlar, zamieler ve diğer dil bilgisel işlevi olan kelimelerdir.\n",
    "metin işleme süreçlerinde bu kelimeleri kaldırmak, analizlerin doğruluğunu artırabilir ve metin üzerinde daha anlamlı sonuçlar elde edilmesine yardımcı olabilir\n",
    "Örnek; \n",
    "    Türkçe stop words : ve, bir, bu, ile, da, de, mi, o, çok, gibi\n",
    "    İngilizce stop words : and, the, is, in, to, of, it, that"
   ]
  },
  {
   "cell_type": "code",
   "execution_count": 5,
   "id": "2339418a-9884-440e-b4c7-d197ce74a8ad",
   "metadata": {},
   "outputs": [
    {
     "name": "stdout",
     "output_type": "stream",
     "text": [
      "['examples', 'handling', 'stop', 'words', 'texts.']\n"
     ]
    },
    {
     "name": "stderr",
     "output_type": "stream",
     "text": [
      "[nltk_data] Downloading package stopwords to\n",
      "[nltk_data]     C:\\Users\\UMUT\\AppData\\Roaming\\nltk_data...\n",
      "[nltk_data]   Package stopwords is already up-to-date!\n"
     ]
    }
   ],
   "source": [
    "#ingilizce stop word analizi(nltk)\n",
    "import nltk\n",
    "from nltk.corpus import stopwords\n",
    "\n",
    "# Stopwords verisini indir\n",
    "nltk.download(\"stopwords\")\n",
    "\n",
    "stop_words_eng = set(stopwords.words(\"english\"))\n",
    "#ornek metin\n",
    "text = \"There are some examples of handling stop words from some texts.\"\n",
    "text_list = text.split()\n",
    "\n",
    "#eğer word ingilizce stop words listesinde (stop_words_eng) yoksa, bu kelimeyi filtrelenmis listeye ekliyoruz\n",
    "filtered_words = [word for word in text_list if word.lower() not in stop_words_eng] \n",
    "print(filtered_words)"
   ]
  },
  {
   "cell_type": "code",
   "execution_count": 13,
   "id": "9e486451-9b77-4cf1-8a8f-0c1be8a1402d",
   "metadata": {},
   "outputs": [
    {
     "name": "stdout",
     "output_type": "stream",
     "text": [
      "{'az', 'nerede', 'ne', 'bu', 'aslında', 'defa', 'veya', 'mu', 'ise', 'neden', 'çünkü', 'mı', 'ama', 'birşey', 'en', 'sanki', 'ya', 'o', 'çok', 'siz', 'niçin', 'yani', 'nereye', 'nasıl', 'biri', 'şu', 'hep', 'hiç', 'ile', 'mü', 'diye', 'birkaç', 'bazı', 'ki', 'niye', 'eğer', 've', 'nerde', 'için', 'acaba', 'gibi', 'belki', 'daha', 'biz', 'de', 'hepsi', 'şey', 'kim', 'kez', 'tüm', 'hem', 'her', 'da'}\n",
      "['merhaba', 'arkadaslar', 'güzel', 'bir', 'ders', 'işliyoruz.']\n"
     ]
    }
   ],
   "source": [
    "#türkçe stop word analizi(nltk)\n",
    "stop_words_tr = set(stopwords.words(\"turkish\"))\n",
    "print(stop_words_tr)\n",
    "metin=\"merhaba arkadaslar çok güzel bir ders işliyoruz.\"\n",
    "text_list = metin.split()\n",
    "filtered_words_tr = [word for word in text_list if word.lower() not in stop_words_tr]\n",
    "print(filtered_words_tr)"
   ]
  },
  {
   "cell_type": "code",
   "execution_count": 14,
   "id": "9f1ad0cb-89b8-4df8-b7a4-4f68dcda9aca",
   "metadata": {},
   "outputs": [
    {
     "name": "stdout",
     "output_type": "stream",
     "text": [
      "['bir', 'denemedir.', 'Amacımız', 'metinde', 'bulunan', 'karakterleri', 'elemek', 'acaba?']\n"
     ]
    }
   ],
   "source": [
    "#kütüphanesiz stop words analizi\n",
    "\n",
    "\n",
    "#stop word listesi oluştur\n",
    "tr_stopwords = [\"için\",\"bu\",\"ile\",\"mu\",\"mi\",\"özel\"]\n",
    "metin = \"bu bir denemedir. Amacımız bu metinde bulunan özel karakterleri elemek mi acaba?\"\n",
    "text_list = metin.split()\n",
    "filtered_words_tr = [word for word in text_list if word.lower() not in tr_stopwords]\n",
    "print(filtered_words_tr)\n",
    "\n"
   ]
  },
  {
   "cell_type": "code",
   "execution_count": null,
   "id": "7d421361-dbe1-4e83-a7a4-1b71a607ad25",
   "metadata": {},
   "outputs": [],
   "source": []
  }
 ],
 "metadata": {
  "kernelspec": {
   "display_name": "Python 3 (ipykernel)",
   "language": "python",
   "name": "python3"
  },
  "language_info": {
   "codemirror_mode": {
    "name": "ipython",
    "version": 3
   },
   "file_extension": ".py",
   "mimetype": "text/x-python",
   "name": "python",
   "nbconvert_exporter": "python",
   "pygments_lexer": "ipython3",
   "version": "3.9.20"
  }
 },
 "nbformat": 4,
 "nbformat_minor": 5
}
