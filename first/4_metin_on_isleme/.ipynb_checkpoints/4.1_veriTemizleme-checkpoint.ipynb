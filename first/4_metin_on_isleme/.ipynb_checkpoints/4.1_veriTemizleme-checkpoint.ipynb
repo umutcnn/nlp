{
 "cells": [
  {
   "cell_type": "code",
   "execution_count": 1,
   "id": "6e0a67a8-15e2-49b8-9526-209a4746a2b0",
   "metadata": {},
   "outputs": [
    {
     "name": "stdout",
     "output_type": "stream",
     "text": [
      "orijinal text : Hello,    Word!   2035 \n",
      "cleaned_text: Hello, Word! 2035\n"
     ]
    }
   ],
   "source": [
    "#metinlerde bulunan fazla boslukları ortadan kaldır\n",
    "text = \"Hello,    Word!   2035\"\n",
    "text.split()\n",
    "cleaned_text =\" \".join(text.split())\n",
    "print(f\"orijinal text : {text} \\ncleaned_text: {cleaned_text}\")\n",
    "\n"
   ]
  },
  {
   "cell_type": "code",
   "execution_count": 2,
   "id": "fc9a18af-7011-460f-b83b-f005f4d83bad",
   "metadata": {},
   "outputs": [
    {
     "name": "stdout",
     "output_type": "stream",
     "text": [
      "*\n",
      "orijinal text : Hello, Word! 2035 \n",
      "cleaned_text: hello, word! 2035\n"
     ]
    }
   ],
   "source": [
    "print(\"*\")\n",
    "# buyuk ve kucuk harf cevrimi\n",
    "text = \"Hello, Word! 2035\"\n",
    "cleaned_text2 = text.lower()\n",
    "print(f\"orijinal text : {text} \\ncleaned_text: {cleaned_text2}\")\n",
    "\n",
    "\n",
    "\n"
   ]
  },
  {
   "cell_type": "code",
   "execution_count": 3,
   "id": "5943959d-6109-4c49-984d-fd5708ec0dae",
   "metadata": {},
   "outputs": [
    {
     "name": "stdout",
     "output_type": "stream",
     "text": [
      "*\n",
      "orijinal text : Hello, Word! 2035 \n",
      "cleaned_text: Hello Word 2035\n",
      "*\n"
     ]
    }
   ],
   "source": [
    "print(\"*\")\n",
    "#noktalama işaretlerini kaldır\n",
    "import string\n",
    "\n",
    "text = \"Hello, Word! 2035\"\n",
    "cleaned_text3 = text.translate(str.maketrans(\"\",\"\", string.punctuation))\n",
    "print(f\"orijinal text : {text} \\ncleaned_text: {cleaned_text3}\")\n",
    "print(\"*\")\n",
    "\n"
   ]
  },
  {
   "cell_type": "code",
   "execution_count": 4,
   "id": "b72f7923-3d35-4109-87ad-289c4f660317",
   "metadata": {},
   "outputs": [
    {
     "name": "stdout",
     "output_type": "stream",
     "text": [
      "orijinal text : Hello, Word! 2035% \n",
      "cleaned_text: ,!%\n",
      "*\n"
     ]
    }
   ],
   "source": [
    "#özel karakterleri kaldıralım %,@,/,*,#\n",
    "import re \n",
    "text = \"Hello, Word! 2035%\"\n",
    "cleaned_text4 = re.sub(r\"[A-Za-z0-9\\s]\",\"\",text)\n",
    "print(f\"orijinal text : {text} \\ncleaned_text: {cleaned_text4}\")\n",
    "print(\"*\")\n",
    "\n"
   ]
  },
  {
   "cell_type": "code",
   "execution_count": 6,
   "id": "ae130fd0-7e4c-4fae-8a0b-1a0dbec209c4",
   "metadata": {},
   "outputs": [
    {
     "name": "stdout",
     "output_type": "stream",
     "text": [
      "orijinal text : Hellio, Wird! 2035 \n",
      "cleaned_text: Hello, Bird! 2035\n",
      "*\n"
     ]
    }
   ],
   "source": [
    "#yazım hatalarını düzeltelim \n",
    "from textblob import TextBlob\n",
    "\n",
    "text = \"Hellio, Wird! 2035\"\n",
    "cleaned_text5 = TextBlob(text).correct()\n",
    "print(f\"orijinal text : {text} \\ncleaned_text: {cleaned_text5}\")\n",
    "print(\"*\")\n",
    "\n"
   ]
  },
  {
   "cell_type": "code",
   "execution_count": 15,
   "id": "071c97ee-5ab9-4b2b-af97-d3289e523fd2",
   "metadata": {},
   "outputs": [
    {
     "name": "stdout",
     "output_type": "stream",
     "text": [
      "Orijinal metin: <div>Hello, Word! 2035</div> \n",
      "Temizlenmiş metin: Hello, Word! 2035\n"
     ]
    }
   ],
   "source": [
    "from bs4 import BeautifulSoup\n",
    "\n",
    "html_text = \"<div>Hello, Word! 2035</div>\"\n",
    "cleaned_text = BeautifulSoup(html_text, \"html.parser\").get_text()\n",
    "\n",
    "print(f\"Orijinal metin: {html_text} \\nTemizlenmiş metin: {cleaned_text}\")\n"
   ]
  },
  {
   "cell_type": "code",
   "execution_count": null,
   "id": "182c4797-861f-4c72-8d9b-32be966342cc",
   "metadata": {},
   "outputs": [],
   "source": []
  },
  {
   "cell_type": "code",
   "execution_count": null,
   "id": "d70d8ebc-a3c3-4125-9a1c-ff98f59f658b",
   "metadata": {},
   "outputs": [],
   "source": []
  }
 ],
 "metadata": {
  "kernelspec": {
   "display_name": "Python 3 (ipykernel)",
   "language": "python",
   "name": "python3"
  },
  "language_info": {
   "codemirror_mode": {
    "name": "ipython",
    "version": 3
   },
   "file_extension": ".py",
   "mimetype": "text/x-python",
   "name": "python",
   "nbconvert_exporter": "python",
   "pygments_lexer": "ipython3",
   "version": "3.9.20"
  }
 },
 "nbformat": 4,
 "nbformat_minor": 5
}
