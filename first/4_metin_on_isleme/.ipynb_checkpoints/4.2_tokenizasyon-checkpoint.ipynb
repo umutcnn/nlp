{
 "cells": [
  {
   "cell_type": "code",
   "execution_count": 19,
   "id": "036ba9b7-d674-48b0-a8c2-ae6687bfbc0f",
   "metadata": {},
   "outputs": [
    {
     "name": "stderr",
     "output_type": "stream",
     "text": [
      "[nltk_data] Downloading package punkt_tab to\n",
      "[nltk_data]     C:\\Users\\UMUT\\AppData\\Roaming\\nltk_data...\n",
      "[nltk_data]   Package punkt_tab is already up-to-date!\n"
     ]
    },
    {
     "data": {
      "text/plain": [
       "True"
      ]
     },
     "execution_count": 19,
     "metadata": {},
     "output_type": "execute_result"
    }
   ],
   "source": [
    "import nltk\n",
    "nltk.download('punkt_tab')\n",
    "\n"
   ]
  },
  {
   "cell_type": "code",
   "execution_count": 20,
   "id": "c24c0c32-bae5-4bc3-a14b-e3fc313eed18",
   "metadata": {},
   "outputs": [],
   "source": [
    "text = \"Hello, Word! Hoe are you? Hello, hi ...\""
   ]
  },
  {
   "cell_type": "code",
   "execution_count": 22,
   "id": "cc042d0c-6d06-40d7-8fd1-831557a35d32",
   "metadata": {},
   "outputs": [
    {
     "name": "stdout",
     "output_type": "stream",
     "text": [
      "['Hello', ',', 'Word', '!', 'Hoe', 'are', 'you', '?', 'Hello', ',', 'hi', '...']\n"
     ]
    }
   ],
   "source": [
    "#kelime tokanizasyonu: word_tokenize : metni kelimelere ayırır, noktalama işaretleri ve boşluklar ayrı birer token olarak elde edilecektir\n",
    "word_tokens = nltk.word_tokenize(text)\n",
    "print(word_tokens)"
   ]
  },
  {
   "cell_type": "code",
   "execution_count": 23,
   "id": "d176dd87-29a7-494d-9caf-e88cd4baa8f0",
   "metadata": {},
   "outputs": [
    {
     "name": "stdout",
     "output_type": "stream",
     "text": [
      "['Hello, Word!', 'Hoe are you?', 'Hello, hi ...']\n"
     ]
    }
   ],
   "source": [
    "#cümle tokenizasyonu : sent_tokenize : metni cümlelere ayırır. her bir cümle birer token olur\n",
    "sentence_tokens = nltk.sent_tokenize(text)\n",
    "print(sentence_tokens)"
   ]
  },
  {
   "cell_type": "code",
   "execution_count": null,
   "id": "8fe2ff06-aff4-42b6-a0ff-a9f9ca0d2658",
   "metadata": {},
   "outputs": [],
   "source": []
  },
  {
   "cell_type": "code",
   "execution_count": null,
   "id": "a9d21f67-eecf-4891-a801-b8c3d8b9ce0e",
   "metadata": {},
   "outputs": [],
   "source": []
  }
 ],
 "metadata": {
  "kernelspec": {
   "display_name": "Python 3 (ipykernel)",
   "language": "python",
   "name": "python3"
  },
  "language_info": {
   "codemirror_mode": {
    "name": "ipython",
    "version": 3
   },
   "file_extension": ".py",
   "mimetype": "text/x-python",
   "name": "python",
   "nbconvert_exporter": "python",
   "pygments_lexer": "ipython3",
   "version": "3.9.20"
  }
 },
 "nbformat": 4,
 "nbformat_minor": 5
}
