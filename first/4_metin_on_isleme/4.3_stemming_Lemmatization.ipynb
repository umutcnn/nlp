{
 "cells": [
  {
   "cell_type": "code",
   "execution_count": 16,
   "id": "4aed0216-e5f3-4e31-82d0-05267cc38072",
   "metadata": {},
   "outputs": [
    {
     "name": "stderr",
     "output_type": "stream",
     "text": [
      "[nltk_data] Downloading package wordnet to\n",
      "[nltk_data]     C:\\Users\\UMUT\\AppData\\Roaming\\nltk_data...\n",
      "[nltk_data]   Package wordnet is already up-to-date!\n"
     ]
    }
   ],
   "source": [
    "import nltk\n",
    "nltk.download('wordnet') #wordnet: Lemmatization islemi icin gerekli veri tabanı\n",
    "from nltk.stem import PorterStemmer #stemming icin fonksiyon"
   ]
  },
  {
   "cell_type": "code",
   "execution_count": 23,
   "id": "b88b56a7-f94e-4716-9456-ced30de7c391",
   "metadata": {},
   "outputs": [],
   "source": [
    "#porter stemmer nesnesini olustur\n",
    "stemmer= PorterStemmer()\n",
    "# Kelime listesi\n",
    "words = ['run', 'runner', 'ran', 'run', 'better', 'go', 'went']\n"
   ]
  },
  {
   "cell_type": "code",
   "execution_count": 24,
   "id": "513be746-1504-40ed-a5cf-0a4920642546",
   "metadata": {},
   "outputs": [
    {
     "name": "stdout",
     "output_type": "stream",
     "text": [
      "['run', 'runner', 'ran', 'run', 'better', 'go', 'went']\n"
     ]
    }
   ],
   "source": [
    "stemmed_words = [stemmer.stem(w) for w in words]\n",
    "print(stemmed_words);"
   ]
  },
  {
   "cell_type": "code",
   "execution_count": 25,
   "id": "218638d1-0ba0-4f54-a311-0d45b0206bf8",
   "metadata": {},
   "outputs": [],
   "source": [
    "#lemmatization\n",
    "from nltk.stem import WordNetLemmatizer\n",
    "lemmatizer = WordNetLemmatizer()\n",
    "words = ['run', 'runner', 'ran', 'run', 'better', 'go', 'went']"
   ]
  },
  {
   "cell_type": "code",
   "execution_count": 27,
   "id": "0bb1e2b9-76c9-4d1d-becd-9a405e7ba9d8",
   "metadata": {},
   "outputs": [
    {
     "name": "stdout",
     "output_type": "stream",
     "text": [
      "['run', 'runner', 'run', 'run', 'better', 'go', 'go']\n"
     ]
    }
   ],
   "source": [
    "lemmatizer_words = [lemmatizer.lemmatize(w, pos =\"v\") for w in words]\n",
    "print(lemmatizer_words);"
   ]
  },
  {
   "cell_type": "code",
   "execution_count": null,
   "id": "396bef25-5b55-482c-9d7f-e12db8a5ba02",
   "metadata": {},
   "outputs": [],
   "source": []
  }
 ],
 "metadata": {
  "kernelspec": {
   "display_name": "Python 3 (ipykernel)",
   "language": "python",
   "name": "python3"
  },
  "language_info": {
   "codemirror_mode": {
    "name": "ipython",
    "version": 3
   },
   "file_extension": ".py",
   "mimetype": "text/x-python",
   "name": "python",
   "nbconvert_exporter": "python",
   "pygments_lexer": "ipython3",
   "version": "3.9.20"
  }
 },
 "nbformat": 4,
 "nbformat_minor": 5
}
